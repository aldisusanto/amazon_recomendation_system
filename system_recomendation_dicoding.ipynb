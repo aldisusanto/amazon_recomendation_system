{
 "cells": [
  {
   "cell_type": "markdown",
   "source": [
    "## 1. Inisialisasi Libary"
   ],
   "metadata": {
    "collapsed": false
   }
  },
  {
   "cell_type": "code",
   "execution_count": 45,
   "outputs": [],
   "source": [
    "import keras\n",
    "import numpy as np\n",
    "from keras.src.applications.densenet import layers\n",
    "from keras.src.callbacks import EarlyStopping\n",
    "from keras.layers import Dropout\n",
    "\n",
    "from sklearn.feature_extraction.text import TfidfVectorizer\n",
    "import tensorflow as tf\n",
    "import pandas as pd\n",
    "import matplotlib.pyplot as plt\n"
   ],
   "metadata": {
    "collapsed": false,
    "ExecuteTime": {
     "end_time": "2023-10-04T09:08:39.845358300Z",
     "start_time": "2023-10-04T09:08:39.813989100Z"
    }
   }
  },
  {
   "cell_type": "markdown",
   "source": [
    "## 2. Load Dataset"
   ],
   "metadata": {
    "collapsed": false
   }
  },
  {
   "cell_type": "code",
   "execution_count": 2,
   "outputs": [],
   "source": [
    "ratings = pd.read_csv(\"Books_rating.csv\")\n",
    "books = pd.read_csv(\"books_data.csv\")"
   ],
   "metadata": {
    "collapsed": false,
    "ExecuteTime": {
     "end_time": "2023-10-04T08:42:33.364591Z",
     "start_time": "2023-10-04T08:41:59.618304300Z"
    }
   }
  },
  {
   "cell_type": "markdown",
   "source": [
    "## 3. Data Understanding\n",
    "### 3.1 Deskripsi Data"
   ],
   "metadata": {
    "collapsed": false
   }
  },
  {
   "cell_type": "markdown",
   "source": [
    "#### Ratings"
   ],
   "metadata": {
    "collapsed": false
   }
  },
  {
   "cell_type": "code",
   "execution_count": 3,
   "outputs": [
    {
     "data": {
      "text/plain": "           Id                           Title  Price         User_id  \\\n0  1882931173  Its Only Art If Its Well Hung!    NaN   AVCGYZL8FQQTD   \n1  0826414346        Dr. Seuss: American Icon    NaN  A30TK6U7DNS82R   \n2  0826414346        Dr. Seuss: American Icon    NaN  A3UH4UZ4RSVO82   \n3  0826414346        Dr. Seuss: American Icon    NaN  A2MVUWT453QH61   \n4  0826414346        Dr. Seuss: American Icon    NaN  A22X4XUPKF66MR   \n5  0826414346        Dr. Seuss: American Icon    NaN  A2F6NONFUDB6UK   \n6  0826414346        Dr. Seuss: American Icon    NaN  A14OJS0VWMOSWO   \n7  0826414346        Dr. Seuss: American Icon    NaN  A2RSSXTDZDUSH4   \n8  0826414346        Dr. Seuss: American Icon    NaN  A25MD5I2GUIW6W   \n9  0826414346        Dr. Seuss: American Icon    NaN  A3VA4XFS5WNJO3   \n\n                          profileName review/helpfulness  review/score  \\\n0               Jim of Oz \"jim-of-oz\"                7/7           4.0   \n1                       Kevin Killian              10/10           5.0   \n2                        John Granger              10/11           5.0   \n3  Roy E. Perry \"amateur philosopher\"                7/7           4.0   \n4     D. H. Richards \"ninthwavestore\"                3/3           4.0   \n5                              Malvin                2/2           4.0   \n6                 Midwest Book Review                3/4           5.0   \n7                           J. Squire                0/0           5.0   \n8           J. P. HIGBED \"big fellow\"                0/0           5.0   \n9                     Donald Burnside                3/5           4.0   \n\n   review/time                                     review/summary  \\\n0    940636800             Nice collection of Julie Strain images   \n1   1095724800                                  Really Enjoyed It   \n2   1078790400    Essential for every personal and Public Library   \n3   1090713600    Phlip Nel gives silly Seuss a serious treatment   \n4   1107993600                             Good academic overview   \n5   1127174400         One of America's greatest creative talents   \n6   1100131200  A memorably excellent survey of Dr. Seuss' man...   \n7   1231200000                              Academia At It's Best   \n8   1209859200           And to think that I read it on the tram!   \n9   1076371200            Fascinating account of a genius at work   \n\n                                         review/text  \n0  This is only for Julie Strain fans. It's a col...  \n1  I don't care much for Dr. Seuss but after read...  \n2  If people become the books they read and if \"t...  \n3  Theodore Seuss Geisel (1904-1991), aka &quot;D...  \n4  Philip Nel - Dr. Seuss: American IconThis is b...  \n5  \"Dr. Seuss: American Icon\" by Philip Nel is a ...  \n6  Theodor Seuss Giesel was best known as 'Dr. Se...  \n7  When I recieved this book as a gift for Christ...  \n8  Trams (or any public transport) are not usuall...  \n9  As far as I am aware, this is the first book-l...  ",
      "text/html": "<div>\n<style scoped>\n    .dataframe tbody tr th:only-of-type {\n        vertical-align: middle;\n    }\n\n    .dataframe tbody tr th {\n        vertical-align: top;\n    }\n\n    .dataframe thead th {\n        text-align: right;\n    }\n</style>\n<table border=\"1\" class=\"dataframe\">\n  <thead>\n    <tr style=\"text-align: right;\">\n      <th></th>\n      <th>Id</th>\n      <th>Title</th>\n      <th>Price</th>\n      <th>User_id</th>\n      <th>profileName</th>\n      <th>review/helpfulness</th>\n      <th>review/score</th>\n      <th>review/time</th>\n      <th>review/summary</th>\n      <th>review/text</th>\n    </tr>\n  </thead>\n  <tbody>\n    <tr>\n      <th>0</th>\n      <td>1882931173</td>\n      <td>Its Only Art If Its Well Hung!</td>\n      <td>NaN</td>\n      <td>AVCGYZL8FQQTD</td>\n      <td>Jim of Oz \"jim-of-oz\"</td>\n      <td>7/7</td>\n      <td>4.0</td>\n      <td>940636800</td>\n      <td>Nice collection of Julie Strain images</td>\n      <td>This is only for Julie Strain fans. It's a col...</td>\n    </tr>\n    <tr>\n      <th>1</th>\n      <td>0826414346</td>\n      <td>Dr. Seuss: American Icon</td>\n      <td>NaN</td>\n      <td>A30TK6U7DNS82R</td>\n      <td>Kevin Killian</td>\n      <td>10/10</td>\n      <td>5.0</td>\n      <td>1095724800</td>\n      <td>Really Enjoyed It</td>\n      <td>I don't care much for Dr. Seuss but after read...</td>\n    </tr>\n    <tr>\n      <th>2</th>\n      <td>0826414346</td>\n      <td>Dr. Seuss: American Icon</td>\n      <td>NaN</td>\n      <td>A3UH4UZ4RSVO82</td>\n      <td>John Granger</td>\n      <td>10/11</td>\n      <td>5.0</td>\n      <td>1078790400</td>\n      <td>Essential for every personal and Public Library</td>\n      <td>If people become the books they read and if \"t...</td>\n    </tr>\n    <tr>\n      <th>3</th>\n      <td>0826414346</td>\n      <td>Dr. Seuss: American Icon</td>\n      <td>NaN</td>\n      <td>A2MVUWT453QH61</td>\n      <td>Roy E. Perry \"amateur philosopher\"</td>\n      <td>7/7</td>\n      <td>4.0</td>\n      <td>1090713600</td>\n      <td>Phlip Nel gives silly Seuss a serious treatment</td>\n      <td>Theodore Seuss Geisel (1904-1991), aka &amp;quot;D...</td>\n    </tr>\n    <tr>\n      <th>4</th>\n      <td>0826414346</td>\n      <td>Dr. Seuss: American Icon</td>\n      <td>NaN</td>\n      <td>A22X4XUPKF66MR</td>\n      <td>D. H. Richards \"ninthwavestore\"</td>\n      <td>3/3</td>\n      <td>4.0</td>\n      <td>1107993600</td>\n      <td>Good academic overview</td>\n      <td>Philip Nel - Dr. Seuss: American IconThis is b...</td>\n    </tr>\n    <tr>\n      <th>5</th>\n      <td>0826414346</td>\n      <td>Dr. Seuss: American Icon</td>\n      <td>NaN</td>\n      <td>A2F6NONFUDB6UK</td>\n      <td>Malvin</td>\n      <td>2/2</td>\n      <td>4.0</td>\n      <td>1127174400</td>\n      <td>One of America's greatest creative talents</td>\n      <td>\"Dr. Seuss: American Icon\" by Philip Nel is a ...</td>\n    </tr>\n    <tr>\n      <th>6</th>\n      <td>0826414346</td>\n      <td>Dr. Seuss: American Icon</td>\n      <td>NaN</td>\n      <td>A14OJS0VWMOSWO</td>\n      <td>Midwest Book Review</td>\n      <td>3/4</td>\n      <td>5.0</td>\n      <td>1100131200</td>\n      <td>A memorably excellent survey of Dr. Seuss' man...</td>\n      <td>Theodor Seuss Giesel was best known as 'Dr. Se...</td>\n    </tr>\n    <tr>\n      <th>7</th>\n      <td>0826414346</td>\n      <td>Dr. Seuss: American Icon</td>\n      <td>NaN</td>\n      <td>A2RSSXTDZDUSH4</td>\n      <td>J. Squire</td>\n      <td>0/0</td>\n      <td>5.0</td>\n      <td>1231200000</td>\n      <td>Academia At It's Best</td>\n      <td>When I recieved this book as a gift for Christ...</td>\n    </tr>\n    <tr>\n      <th>8</th>\n      <td>0826414346</td>\n      <td>Dr. Seuss: American Icon</td>\n      <td>NaN</td>\n      <td>A25MD5I2GUIW6W</td>\n      <td>J. P. HIGBED \"big fellow\"</td>\n      <td>0/0</td>\n      <td>5.0</td>\n      <td>1209859200</td>\n      <td>And to think that I read it on the tram!</td>\n      <td>Trams (or any public transport) are not usuall...</td>\n    </tr>\n    <tr>\n      <th>9</th>\n      <td>0826414346</td>\n      <td>Dr. Seuss: American Icon</td>\n      <td>NaN</td>\n      <td>A3VA4XFS5WNJO3</td>\n      <td>Donald Burnside</td>\n      <td>3/5</td>\n      <td>4.0</td>\n      <td>1076371200</td>\n      <td>Fascinating account of a genius at work</td>\n      <td>As far as I am aware, this is the first book-l...</td>\n    </tr>\n  </tbody>\n</table>\n</div>"
     },
     "execution_count": 3,
     "metadata": {},
     "output_type": "execute_result"
    }
   ],
   "source": [
    "ratings.head(10)"
   ],
   "metadata": {
    "collapsed": false,
    "ExecuteTime": {
     "end_time": "2023-10-03T07:50:14.664127200Z",
     "start_time": "2023-10-03T07:50:14.594687300Z"
    }
   }
  },
  {
   "cell_type": "code",
   "execution_count": 4,
   "outputs": [
    {
     "name": "stdout",
     "output_type": "stream",
     "text": [
      "<class 'pandas.core.frame.DataFrame'>\n",
      "RangeIndex: 3000000 entries, 0 to 2999999\n",
      "Data columns (total 10 columns):\n",
      " #   Column              Dtype  \n",
      "---  ------              -----  \n",
      " 0   Id                  object \n",
      " 1   Title               object \n",
      " 2   Price               float64\n",
      " 3   User_id             object \n",
      " 4   profileName         object \n",
      " 5   review/helpfulness  object \n",
      " 6   review/score        float64\n",
      " 7   review/time         int64  \n",
      " 8   review/summary      object \n",
      " 9   review/text         object \n",
      "dtypes: float64(2), int64(1), object(7)\n",
      "memory usage: 228.9+ MB\n"
     ]
    }
   ],
   "source": [
    "ratings.info()"
   ],
   "metadata": {
    "collapsed": false,
    "ExecuteTime": {
     "end_time": "2023-10-03T07:50:17.988648800Z",
     "start_time": "2023-10-03T07:50:17.923712Z"
    }
   }
  },
  {
   "cell_type": "markdown",
   "source": [
    "#### Books"
   ],
   "metadata": {
    "collapsed": false
   }
  },
  {
   "cell_type": "code",
   "execution_count": 5,
   "outputs": [
    {
     "data": {
      "text/plain": "                                               Title  \\\n0                     Its Only Art If Its Well Hung!   \n1                           Dr. Seuss: American Icon   \n2              Wonderful Worship in Smaller Churches   \n3                      Whispers of the Wicked Saints   \n4  Nation Dance: Religion, Identity and Cultural ...   \n\n                                         description              authors  \\\n0                                                NaN     ['Julie Strain']   \n1  Philip Nel takes a fascinating look into the k...       ['Philip Nel']   \n2  This resource includes twelve principles in un...     ['David R. Ray']   \n3  Julia Thomas finds her life spinning out of co...  ['Veronica Haddon']   \n4                                                NaN      ['Edward Long']   \n\n                                               image  \\\n0  http://books.google.com/books/content?id=DykPA...   \n1  http://books.google.com/books/content?id=IjvHQ...   \n2  http://books.google.com/books/content?id=2tsDA...   \n3  http://books.google.com/books/content?id=aRSIg...   \n4                                                NaN   \n\n                                         previewLink  publisher publishedDate  \\\n0  http://books.google.nl/books?id=DykPAAAACAAJ&d...        NaN          1996   \n1  http://books.google.nl/books?id=IjvHQsCn_pgC&p...  A&C Black    2005-01-01   \n2  http://books.google.nl/books?id=2tsDAAAACAAJ&d...        NaN          2000   \n3  http://books.google.nl/books?id=aRSIgJlq6JwC&d...  iUniverse       2005-02   \n4  http://books.google.nl/books?id=399SPgAACAAJ&d...        NaN    2003-03-01   \n\n                                            infoLink  \\\n0  http://books.google.nl/books?id=DykPAAAACAAJ&d...   \n1  http://books.google.nl/books?id=IjvHQsCn_pgC&d...   \n2  http://books.google.nl/books?id=2tsDAAAACAAJ&d...   \n3  http://books.google.nl/books?id=aRSIgJlq6JwC&d...   \n4  http://books.google.nl/books?id=399SPgAACAAJ&d...   \n\n                      categories  ratingsCount  \n0    ['Comics & Graphic Novels']           NaN  \n1  ['Biography & Autobiography']           NaN  \n2                   ['Religion']           NaN  \n3                    ['Fiction']           NaN  \n4                            NaN           NaN  ",
      "text/html": "<div>\n<style scoped>\n    .dataframe tbody tr th:only-of-type {\n        vertical-align: middle;\n    }\n\n    .dataframe tbody tr th {\n        vertical-align: top;\n    }\n\n    .dataframe thead th {\n        text-align: right;\n    }\n</style>\n<table border=\"1\" class=\"dataframe\">\n  <thead>\n    <tr style=\"text-align: right;\">\n      <th></th>\n      <th>Title</th>\n      <th>description</th>\n      <th>authors</th>\n      <th>image</th>\n      <th>previewLink</th>\n      <th>publisher</th>\n      <th>publishedDate</th>\n      <th>infoLink</th>\n      <th>categories</th>\n      <th>ratingsCount</th>\n    </tr>\n  </thead>\n  <tbody>\n    <tr>\n      <th>0</th>\n      <td>Its Only Art If Its Well Hung!</td>\n      <td>NaN</td>\n      <td>['Julie Strain']</td>\n      <td>http://books.google.com/books/content?id=DykPA...</td>\n      <td>http://books.google.nl/books?id=DykPAAAACAAJ&amp;d...</td>\n      <td>NaN</td>\n      <td>1996</td>\n      <td>http://books.google.nl/books?id=DykPAAAACAAJ&amp;d...</td>\n      <td>['Comics &amp; Graphic Novels']</td>\n      <td>NaN</td>\n    </tr>\n    <tr>\n      <th>1</th>\n      <td>Dr. Seuss: American Icon</td>\n      <td>Philip Nel takes a fascinating look into the k...</td>\n      <td>['Philip Nel']</td>\n      <td>http://books.google.com/books/content?id=IjvHQ...</td>\n      <td>http://books.google.nl/books?id=IjvHQsCn_pgC&amp;p...</td>\n      <td>A&amp;C Black</td>\n      <td>2005-01-01</td>\n      <td>http://books.google.nl/books?id=IjvHQsCn_pgC&amp;d...</td>\n      <td>['Biography &amp; Autobiography']</td>\n      <td>NaN</td>\n    </tr>\n    <tr>\n      <th>2</th>\n      <td>Wonderful Worship in Smaller Churches</td>\n      <td>This resource includes twelve principles in un...</td>\n      <td>['David R. Ray']</td>\n      <td>http://books.google.com/books/content?id=2tsDA...</td>\n      <td>http://books.google.nl/books?id=2tsDAAAACAAJ&amp;d...</td>\n      <td>NaN</td>\n      <td>2000</td>\n      <td>http://books.google.nl/books?id=2tsDAAAACAAJ&amp;d...</td>\n      <td>['Religion']</td>\n      <td>NaN</td>\n    </tr>\n    <tr>\n      <th>3</th>\n      <td>Whispers of the Wicked Saints</td>\n      <td>Julia Thomas finds her life spinning out of co...</td>\n      <td>['Veronica Haddon']</td>\n      <td>http://books.google.com/books/content?id=aRSIg...</td>\n      <td>http://books.google.nl/books?id=aRSIgJlq6JwC&amp;d...</td>\n      <td>iUniverse</td>\n      <td>2005-02</td>\n      <td>http://books.google.nl/books?id=aRSIgJlq6JwC&amp;d...</td>\n      <td>['Fiction']</td>\n      <td>NaN</td>\n    </tr>\n    <tr>\n      <th>4</th>\n      <td>Nation Dance: Religion, Identity and Cultural ...</td>\n      <td>NaN</td>\n      <td>['Edward Long']</td>\n      <td>NaN</td>\n      <td>http://books.google.nl/books?id=399SPgAACAAJ&amp;d...</td>\n      <td>NaN</td>\n      <td>2003-03-01</td>\n      <td>http://books.google.nl/books?id=399SPgAACAAJ&amp;d...</td>\n      <td>NaN</td>\n      <td>NaN</td>\n    </tr>\n  </tbody>\n</table>\n</div>"
     },
     "execution_count": 5,
     "metadata": {},
     "output_type": "execute_result"
    }
   ],
   "source": [
    "books.head()"
   ],
   "metadata": {
    "collapsed": false,
    "ExecuteTime": {
     "end_time": "2023-10-03T07:50:27.193676100Z",
     "start_time": "2023-10-03T07:50:27.183643200Z"
    }
   }
  },
  {
   "cell_type": "code",
   "execution_count": 6,
   "outputs": [
    {
     "name": "stdout",
     "output_type": "stream",
     "text": [
      "<class 'pandas.core.frame.DataFrame'>\n",
      "RangeIndex: 212404 entries, 0 to 212403\n",
      "Data columns (total 10 columns):\n",
      " #   Column         Non-Null Count   Dtype  \n",
      "---  ------         --------------   -----  \n",
      " 0   Title          212403 non-null  object \n",
      " 1   description    143962 non-null  object \n",
      " 2   authors        180991 non-null  object \n",
      " 3   image          160329 non-null  object \n",
      " 4   previewLink    188568 non-null  object \n",
      " 5   publisher      136518 non-null  object \n",
      " 6   publishedDate  187099 non-null  object \n",
      " 7   infoLink       188568 non-null  object \n",
      " 8   categories     171205 non-null  object \n",
      " 9   ratingsCount   49752 non-null   float64\n",
      "dtypes: float64(1), object(9)\n",
      "memory usage: 16.2+ MB\n"
     ]
    }
   ],
   "source": [
    "books.info()"
   ],
   "metadata": {
    "collapsed": false,
    "ExecuteTime": {
     "end_time": "2023-10-03T07:50:32.228327700Z",
     "start_time": "2023-10-03T07:50:32.132617500Z"
    }
   }
  },
  {
   "cell_type": "markdown",
   "source": [
    "### 3.2 Univariate Analysis"
   ],
   "metadata": {
    "collapsed": false
   }
  },
  {
   "cell_type": "markdown",
   "source": [
    "#### 3.2.1 Books\n",
    "Mengecek jumlah data unik pada judul dan kategori\n"
   ],
   "metadata": {
    "collapsed": false
   }
  },
  {
   "cell_type": "code",
   "execution_count": 7,
   "outputs": [
    {
     "data": {
      "text/plain": "<Figure size 800x400 with 1 Axes>",
      "image/png": "[encoded data removed]"
     },
     "metadata": {},
     "output_type": "display_data"
    }
   ],
   "source": [
    "unique_title_count = len(books.Title.unique())\n",
    "unique_categories_count = len(books.categories.unique())\n",
    "plt.figure(figsize=(8, 4))\n",
    "plt.bar(['Judul Unik', 'Kategori Unik'], [unique_title_count, unique_categories_count])\n",
    "plt.ylabel('Jumlah')\n",
    "plt.title('Jumlah Judul Unik dan Kategori Unik pada Books')\n",
    "\n",
    "# Menambahkan label dengan jumlah data pasnya di atas batang\n",
    "for i, count in enumerate([unique_title_count, unique_categories_count]):\n",
    "    plt.text(i, count + 0.1, str(count), ha='center', va='bottom')\n",
    "\n",
    "plt.show()"
   ],
   "metadata": {
    "collapsed": false,
    "ExecuteTime": {
     "end_time": "2023-10-03T07:50:37.227200900Z",
     "start_time": "2023-10-03T07:50:36.789518200Z"
    }
   }
  },
  {
   "cell_type": "code",
   "execution_count": 9,
   "outputs": [
    {
     "data": {
      "text/plain": "0           ['Comics & Graphic Novels']\n1         ['Biography & Autobiography']\n2                          ['Religion']\n3                           ['Fiction']\n4                                   NaN\n                      ...              \n212399             ['Juvenile Fiction']\n212400             ['Juvenile Fiction']\n212401                              NaN\n212402                      ['Fiction']\n212403                              NaN\nName: categories, Length: 212404, dtype: object"
     },
     "execution_count": 9,
     "metadata": {},
     "output_type": "execute_result"
    }
   ],
   "source": [
    "books['categories']"
   ],
   "metadata": {
    "collapsed": false
   }
  },
  {
   "cell_type": "markdown",
   "source": [
    "Data categories diatas akan dihapus."
   ],
   "metadata": {
    "collapsed": false
   }
  },
  {
   "cell_type": "markdown",
   "source": [
    "### 3.2.2 Ratings\n",
    "Mengecek fitur yang akan digunakan pada data Ratings"
   ],
   "metadata": {
    "collapsed": false
   }
  },
  {
   "cell_type": "code",
   "execution_count": 6,
   "outputs": [
    {
     "data": {
      "text/plain": "<Figure size 800x400 with 1 Axes>",
      "image/png": "[encoded data removed]"
     },
     "metadata": {},
     "output_type": "display_data"
    }
   ],
   "source": [
    "unique_title_count = len(ratings.Title.unique())\n",
    "unique_user_count = len(ratings.User_id.unique())\n",
    "plt.figure(figsize=(8, 4))\n",
    "plt.bar(['Judul Unik', 'User_id Unik'], [unique_title_count, unique_user_count])\n",
    "plt.ylabel('Jumlah')\n",
    "plt.title('Jumlah Judul Unik dan User_id Unik pada Ratings')\n",
    "\n",
    "# Menambahkan label dengan jumlah data pasnya di atas batang\n",
    "for i, count in enumerate([unique_title_count, unique_user_count]):\n",
    "    plt.text(i, count + 0.1, str(count), ha='center', va='bottom')\n",
    "\n",
    "plt.show()"
   ],
   "metadata": {
    "collapsed": false,
    "ExecuteTime": {
     "end_time": "2023-10-03T16:47:28.726304800Z",
     "start_time": "2023-10-03T16:47:28.176565700Z"
    }
   }
  },
  {
   "cell_type": "code",
   "execution_count": 11,
   "outputs": [
    {
     "data": {
      "text/plain": "                Jumlah rating\nUser_id                      \nA14OJS0VWMOSWO           5795\nAFVQZQ8PW0L              3606\nA1D2C0WDCSHUWZ           3146\nAHD101501WCN1            1995\nA1X8VZWTOG8IS6           1804\n...                       ...\nA1DVHZFOA7SLCV              1\nA2V8PZ1JVYYHXC              1\nA1BDK3CZP7RU0K              1\nA3CS4YIHR7RJL8              1\nA18SQGYBKS852K              1\n\n[1008972 rows x 1 columns]",
      "text/html": "<div>\n<style scoped>\n    .dataframe tbody tr th:only-of-type {\n        vertical-align: middle;\n    }\n\n    .dataframe tbody tr th {\n        vertical-align: top;\n    }\n\n    .dataframe thead th {\n        text-align: right;\n    }\n</style>\n<table border=\"1\" class=\"dataframe\">\n  <thead>\n    <tr style=\"text-align: right;\">\n      <th></th>\n      <th>Jumlah rating</th>\n    </tr>\n    <tr>\n      <th>User_id</th>\n      <th></th>\n    </tr>\n  </thead>\n  <tbody>\n    <tr>\n      <th>A14OJS0VWMOSWO</th>\n      <td>5795</td>\n    </tr>\n    <tr>\n      <th>AFVQZQ8PW0L</th>\n      <td>3606</td>\n    </tr>\n    <tr>\n      <th>A1D2C0WDCSHUWZ</th>\n      <td>3146</td>\n    </tr>\n    <tr>\n      <th>AHD101501WCN1</th>\n      <td>1995</td>\n    </tr>\n    <tr>\n      <th>A1X8VZWTOG8IS6</th>\n      <td>1804</td>\n    </tr>\n    <tr>\n      <th>...</th>\n      <td>...</td>\n    </tr>\n    <tr>\n      <th>A1DVHZFOA7SLCV</th>\n      <td>1</td>\n    </tr>\n    <tr>\n      <th>A2V8PZ1JVYYHXC</th>\n      <td>1</td>\n    </tr>\n    <tr>\n      <th>A1BDK3CZP7RU0K</th>\n      <td>1</td>\n    </tr>\n    <tr>\n      <th>A3CS4YIHR7RJL8</th>\n      <td>1</td>\n    </tr>\n    <tr>\n      <th>A18SQGYBKS852K</th>\n      <td>1</td>\n    </tr>\n  </tbody>\n</table>\n<p>1008972 rows × 1 columns</p>\n</div>"
     },
     "execution_count": 11,
     "metadata": {},
     "output_type": "execute_result"
    }
   ],
   "source": [
    "ratings.User_id.value_counts().to_frame(name=\"Jumlah rating\")"
   ],
   "metadata": {
    "collapsed": false,
    "ExecuteTime": {
     "end_time": "2023-10-03T07:50:49.922117100Z",
     "start_time": "2023-10-03T07:50:48.667199300Z"
    }
   }
  },
  {
   "cell_type": "markdown",
   "source": [
    "## 4. Data Pra-Processing"
   ],
   "metadata": {
    "collapsed": false
   }
  },
  {
   "cell_type": "markdown",
   "source": [
    "### 4.1 Menghapus fitur yang tidak digunakan pada dataset"
   ],
   "metadata": {
    "collapsed": false
   }
  },
  {
   "cell_type": "markdown",
   "source": [
    "#### 4.1.1 Menghapus fitur pada ratings\n",
    "Fitur 'Price', 'review/helpfulness', 'review/time', 'review/text' akan dihapus karena tidak dibutuhkan."
   ],
   "metadata": {
    "collapsed": false
   }
  },
  {
   "cell_type": "code",
   "execution_count": 3,
   "outputs": [
    {
     "data": {
      "text/plain": "                            Title         User_id  \\\n0  Its Only Art If Its Well Hung!   AVCGYZL8FQQTD   \n1        Dr. Seuss: American Icon  A30TK6U7DNS82R   \n2        Dr. Seuss: American Icon  A3UH4UZ4RSVO82   \n3        Dr. Seuss: American Icon  A2MVUWT453QH61   \n4        Dr. Seuss: American Icon  A22X4XUPKF66MR   \n5        Dr. Seuss: American Icon  A2F6NONFUDB6UK   \n6        Dr. Seuss: American Icon  A14OJS0VWMOSWO   \n7        Dr. Seuss: American Icon  A2RSSXTDZDUSH4   \n8        Dr. Seuss: American Icon  A25MD5I2GUIW6W   \n9        Dr. Seuss: American Icon  A3VA4XFS5WNJO3   \n\n                          profileName  review/score  \\\n0               Jim of Oz \"jim-of-oz\"           4.0   \n1                       Kevin Killian           5.0   \n2                        John Granger           5.0   \n3  Roy E. Perry \"amateur philosopher\"           4.0   \n4     D. H. Richards \"ninthwavestore\"           4.0   \n5                              Malvin           4.0   \n6                 Midwest Book Review           5.0   \n7                           J. Squire           5.0   \n8           J. P. HIGBED \"big fellow\"           5.0   \n9                     Donald Burnside           4.0   \n\n                                      review/summary  \n0             Nice collection of Julie Strain images  \n1                                  Really Enjoyed It  \n2    Essential for every personal and Public Library  \n3    Phlip Nel gives silly Seuss a serious treatment  \n4                             Good academic overview  \n5         One of America's greatest creative talents  \n6  A memorably excellent survey of Dr. Seuss' man...  \n7                              Academia At It's Best  \n8           And to think that I read it on the tram!  \n9            Fascinating account of a genius at work  ",
      "text/html": "<div>\n<style scoped>\n    .dataframe tbody tr th:only-of-type {\n        vertical-align: middle;\n    }\n\n    .dataframe tbody tr th {\n        vertical-align: top;\n    }\n\n    .dataframe thead th {\n        text-align: right;\n    }\n</style>\n<table border=\"1\" class=\"dataframe\">\n  <thead>\n    <tr style=\"text-align: right;\">\n      <th></th>\n      <th>Title</th>\n      <th>User_id</th>\n      <th>profileName</th>\n      <th>review/score</th>\n      <th>review/summary</th>\n    </tr>\n  </thead>\n  <tbody>\n    <tr>\n      <th>0</th>\n      <td>Its Only Art If Its Well Hung!</td>\n      <td>AVCGYZL8FQQTD</td>\n      <td>Jim of Oz \"jim-of-oz\"</td>\n      <td>4.0</td>\n      <td>Nice collection of Julie Strain images</td>\n    </tr>\n    <tr>\n      <th>1</th>\n      <td>Dr. Seuss: American Icon</td>\n      <td>A30TK6U7DNS82R</td>\n      <td>Kevin Killian</td>\n      <td>5.0</td>\n      <td>Really Enjoyed It</td>\n    </tr>\n    <tr>\n      <th>2</th>\n      <td>Dr. Seuss: American Icon</td>\n      <td>A3UH4UZ4RSVO82</td>\n      <td>John Granger</td>\n      <td>5.0</td>\n      <td>Essential for every personal and Public Library</td>\n    </tr>\n    <tr>\n      <th>3</th>\n      <td>Dr. Seuss: American Icon</td>\n      <td>A2MVUWT453QH61</td>\n      <td>Roy E. Perry \"amateur philosopher\"</td>\n      <td>4.0</td>\n      <td>Phlip Nel gives silly Seuss a serious treatment</td>\n    </tr>\n    <tr>\n      <th>4</th>\n      <td>Dr. Seuss: American Icon</td>\n      <td>A22X4XUPKF66MR</td>\n      <td>D. H. Richards \"ninthwavestore\"</td>\n      <td>4.0</td>\n      <td>Good academic overview</td>\n    </tr>\n    <tr>\n      <th>5</th>\n      <td>Dr. Seuss: American Icon</td>\n      <td>A2F6NONFUDB6UK</td>\n      <td>Malvin</td>\n      <td>4.0</td>\n      <td>One of America's greatest creative talents</td>\n    </tr>\n    <tr>\n      <th>6</th>\n      <td>Dr. Seuss: American Icon</td>\n      <td>A14OJS0VWMOSWO</td>\n      <td>Midwest Book Review</td>\n      <td>5.0</td>\n      <td>A memorably excellent survey of Dr. Seuss' man...</td>\n    </tr>\n    <tr>\n      <th>7</th>\n      <td>Dr. Seuss: American Icon</td>\n      <td>A2RSSXTDZDUSH4</td>\n      <td>J. Squire</td>\n      <td>5.0</td>\n      <td>Academia At It's Best</td>\n    </tr>\n    <tr>\n      <th>8</th>\n      <td>Dr. Seuss: American Icon</td>\n      <td>A25MD5I2GUIW6W</td>\n      <td>J. P. HIGBED \"big fellow\"</td>\n      <td>5.0</td>\n      <td>And to think that I read it on the tram!</td>\n    </tr>\n    <tr>\n      <th>9</th>\n      <td>Dr. Seuss: American Icon</td>\n      <td>A3VA4XFS5WNJO3</td>\n      <td>Donald Burnside</td>\n      <td>4.0</td>\n      <td>Fascinating account of a genius at work</td>\n    </tr>\n  </tbody>\n</table>\n</div>"
     },
     "execution_count": 3,
     "metadata": {},
     "output_type": "execute_result"
    }
   ],
   "source": [
    "ratings = ratings.drop(columns=['Id', 'Price', 'review/helpfulness', 'review/time', 'review/text'])\n",
    "ratings.head(10)"
   ],
   "metadata": {
    "collapsed": false,
    "ExecuteTime": {
     "end_time": "2023-10-04T08:42:34.323927300Z",
     "start_time": "2023-10-04T08:42:33.364591Z"
    }
   }
  },
  {
   "cell_type": "markdown",
   "source": [
    "#### 4.1.2 Menghapus fitur pada books\n",
    "Fitur 'Image', 'previewLink', 'infoLink', 'publishedDate', 'publisher', 'infoLink', dan 'description' akan dihapus karena tidak dibutukan."
   ],
   "metadata": {
    "collapsed": false
   }
  },
  {
   "cell_type": "code",
   "execution_count": 4,
   "outputs": [
    {
     "data": {
      "text/plain": "                                               Title  \\\n0                     Its Only Art If Its Well Hung!   \n1                           Dr. Seuss: American Icon   \n2              Wonderful Worship in Smaller Churches   \n3                      Whispers of the Wicked Saints   \n4  Nation Dance: Religion, Identity and Cultural ...   \n5  The Church of Christ: A Biblical Ecclesiology ...   \n6                         The Overbury affair (Avon)   \n7            A Walk in the Woods: a Play in Two Acts   \n8                           Saint Hyacinth of Poland   \n9  Rising Sons and Daughters: Life Among Japan's ...   \n\n                    authors                     categories  ratingsCount  \n0          ['Julie Strain']    ['Comics & Graphic Novels']           NaN  \n1            ['Philip Nel']  ['Biography & Autobiography']           NaN  \n2          ['David R. Ray']                   ['Religion']           NaN  \n3       ['Veronica Haddon']                    ['Fiction']           NaN  \n4           ['Edward Long']                            NaN           NaN  \n5      ['Everett Ferguson']                   ['Religion']           5.0  \n6  ['Miriam Allen De Ford']                            NaN           NaN  \n7          ['Lee Blessing']                            NaN           3.0  \n8  ['Mary Fabyan Windeatt']  ['Biography & Autobiography']           NaN  \n9        ['Steven Wardell']             ['Social Science']           NaN  ",
      "text/html": "<div>\n<style scoped>\n    .dataframe tbody tr th:only-of-type {\n        vertical-align: middle;\n    }\n\n    .dataframe tbody tr th {\n        vertical-align: top;\n    }\n\n    .dataframe thead th {\n        text-align: right;\n    }\n</style>\n<table border=\"1\" class=\"dataframe\">\n  <thead>\n    <tr style=\"text-align: right;\">\n      <th></th>\n      <th>Title</th>\n      <th>authors</th>\n      <th>categories</th>\n      <th>ratingsCount</th>\n    </tr>\n  </thead>\n  <tbody>\n    <tr>\n      <th>0</th>\n      <td>Its Only Art If Its Well Hung!</td>\n      <td>['Julie Strain']</td>\n      <td>['Comics &amp; Graphic Novels']</td>\n      <td>NaN</td>\n    </tr>\n    <tr>\n      <th>1</th>\n      <td>Dr. Seuss: American Icon</td>\n      <td>['Philip Nel']</td>\n      <td>['Biography &amp; Autobiography']</td>\n      <td>NaN</td>\n    </tr>\n    <tr>\n      <th>2</th>\n      <td>Wonderful Worship in Smaller Churches</td>\n      <td>['David R. Ray']</td>\n      <td>['Religion']</td>\n      <td>NaN</td>\n    </tr>\n    <tr>\n      <th>3</th>\n      <td>Whispers of the Wicked Saints</td>\n      <td>['Veronica Haddon']</td>\n      <td>['Fiction']</td>\n      <td>NaN</td>\n    </tr>\n    <tr>\n      <th>4</th>\n      <td>Nation Dance: Religion, Identity and Cultural ...</td>\n      <td>['Edward Long']</td>\n      <td>NaN</td>\n      <td>NaN</td>\n    </tr>\n    <tr>\n      <th>5</th>\n      <td>The Church of Christ: A Biblical Ecclesiology ...</td>\n      <td>['Everett Ferguson']</td>\n      <td>['Religion']</td>\n      <td>5.0</td>\n    </tr>\n    <tr>\n      <th>6</th>\n      <td>The Overbury affair (Avon)</td>\n      <td>['Miriam Allen De Ford']</td>\n      <td>NaN</td>\n      <td>NaN</td>\n    </tr>\n    <tr>\n      <th>7</th>\n      <td>A Walk in the Woods: a Play in Two Acts</td>\n      <td>['Lee Blessing']</td>\n      <td>NaN</td>\n      <td>3.0</td>\n    </tr>\n    <tr>\n      <th>8</th>\n      <td>Saint Hyacinth of Poland</td>\n      <td>['Mary Fabyan Windeatt']</td>\n      <td>['Biography &amp; Autobiography']</td>\n      <td>NaN</td>\n    </tr>\n    <tr>\n      <th>9</th>\n      <td>Rising Sons and Daughters: Life Among Japan's ...</td>\n      <td>['Steven Wardell']</td>\n      <td>['Social Science']</td>\n      <td>NaN</td>\n    </tr>\n  </tbody>\n</table>\n</div>"
     },
     "execution_count": 4,
     "metadata": {},
     "output_type": "execute_result"
    }
   ],
   "source": [
    "books = books.drop(\n",
    "    columns=['image', 'previewLink', 'infoLink', 'publishedDate', 'publisher', 'infoLink',\n",
    "             'description'])\n",
    "books.head(10)\n"
   ],
   "metadata": {
    "collapsed": false,
    "ExecuteTime": {
     "end_time": "2023-10-04T08:42:34.575178700Z",
     "start_time": "2023-10-04T08:42:34.323927300Z"
    }
   }
  },
  {
   "cell_type": "markdown",
   "source": [
    "### 4.2 Mengganti nama kolom pada datasets"
   ],
   "metadata": {
    "collapsed": false
   }
  },
  {
   "cell_type": "markdown",
   "source": [
    "#### 4.2.1 Ratings"
   ],
   "metadata": {
    "collapsed": false
   }
  },
  {
   "cell_type": "code",
   "execution_count": 5,
   "outputs": [
    {
     "name": "stdout",
     "output_type": "stream",
     "text": [
      "<class 'pandas.core.frame.DataFrame'>\n",
      "RangeIndex: 3000000 entries, 0 to 2999999\n",
      "Data columns (total 5 columns):\n",
      " #   Column       Dtype  \n",
      "---  ------       -----  \n",
      " 0   title        object \n",
      " 1   userId       object \n",
      " 2   profileName  object \n",
      " 3   score        float64\n",
      " 4   summary      object \n",
      "dtypes: float64(1), object(4)\n",
      "memory usage: 114.4+ MB\n"
     ]
    }
   ],
   "source": [
    "ratings = ratings.rename(\n",
    "    columns={'Title': 'title', 'User_id': 'userId', 'review/score': 'score',\n",
    "             'review/summary': 'summary'})\n",
    "ratings.info()\n"
   ],
   "metadata": {
    "collapsed": false,
    "ExecuteTime": {
     "end_time": "2023-10-04T08:42:34.653900900Z",
     "start_time": "2023-10-04T08:42:34.449976600Z"
    }
   }
  },
  {
   "cell_type": "markdown",
   "source": [
    "### 4.2.2 Books"
   ],
   "metadata": {
    "collapsed": false
   }
  },
  {
   "cell_type": "code",
   "execution_count": 6,
   "outputs": [
    {
     "name": "stdout",
     "output_type": "stream",
     "text": [
      "<class 'pandas.core.frame.DataFrame'>\n",
      "RangeIndex: 212404 entries, 0 to 212403\n",
      "Data columns (total 4 columns):\n",
      " #   Column        Non-Null Count   Dtype  \n",
      "---  ------        --------------   -----  \n",
      " 0   title         212403 non-null  object \n",
      " 1   authors       180991 non-null  object \n",
      " 2   categories    171205 non-null  object \n",
      " 3   ratingsCount  49752 non-null   float64\n",
      "dtypes: float64(1), object(3)\n",
      "memory usage: 6.5+ MB\n"
     ]
    }
   ],
   "source": [
    "books = books.rename(\n",
    "    columns={'Title': 'title'})\n",
    "books.info()"
   ],
   "metadata": {
    "collapsed": false,
    "ExecuteTime": {
     "end_time": "2023-10-04T08:42:34.749357300Z",
     "start_time": "2023-10-04T08:42:34.590899700Z"
    }
   }
  },
  {
   "cell_type": "markdown",
   "source": [
    "## 5. Data Preparation"
   ],
   "metadata": {
    "collapsed": false
   }
  },
  {
   "cell_type": "markdown",
   "source": [
    "### 5.1 Content Based Filtering"
   ],
   "metadata": {
    "collapsed": false
   }
  },
  {
   "cell_type": "markdown",
   "source": [
    "#### 5.1.1 Menangani Missing Value"
   ],
   "metadata": {
    "collapsed": false
   }
  },
  {
   "cell_type": "code",
   "execution_count": 7,
   "outputs": [
    {
     "data": {
      "text/plain": "title                1\nauthors          31413\ncategories       41199\nratingsCount    162652\ndtype: int64"
     },
     "execution_count": 7,
     "metadata": {},
     "output_type": "execute_result"
    }
   ],
   "source": [
    "books.isna().sum()"
   ],
   "metadata": {
    "collapsed": false,
    "ExecuteTime": {
     "end_time": "2023-10-04T08:42:34.936816600Z",
     "start_time": "2023-10-04T08:42:34.685131700Z"
    }
   }
  },
  {
   "cell_type": "code",
   "execution_count": 8,
   "outputs": [
    {
     "data": {
      "text/plain": "                                                    title  \\\n5       The Church of Christ: A Biblical Ecclesiology ...   \n31      Voices from the Farm: Adventures in Community ...   \n33                                The Battleship Bismarck   \n42                                Tess and the Highlander   \n43       Beginner's Yoruba (Hippocrene Beginner's Series)   \n...                                                   ...   \n212374                                        Thin Within   \n212392  The Awakening and Selected Stories (Modern Lib...   \n212394                                       Final things   \n212399  The Orphan Of Ellis Island (Time Travel Advent...   \n212402                                  The Autograph Man   \n\n                                     authors                     categories  \\\n5                       ['Everett Ferguson']                   ['Religion']   \n31                           ['Rupert Fike']  ['Biography & Autobiography']   \n33                      ['Stefan Draminski']                    ['History']   \n42                        ['May Mcgoldrick']           ['Juvenile Fiction']   \n43                   ['Kayode J. Fakinlede']     ['Foreign Language Study']   \n...                                      ...                            ...   \n212374  ['Judy Halliday', 'Arthur Halliday']           ['Health & Fitness']   \n212392                       ['Kate Chopin']                   ['Adultery']   \n212394                      ['Jenny Offill']                    ['Fiction']   \n212399                   ['Elvira Woodruff']           ['Juvenile Fiction']   \n212402                       ['Zadie Smith']                    ['Fiction']   \n\n        ratingsCount  \n5                5.0  \n31               1.0  \n33               1.0  \n42               2.0  \n43               1.0  \n...              ...  \n212374           9.0  \n212392           2.0  \n212394           4.0  \n212399           2.0  \n212402          19.0  \n\n[47269 rows x 4 columns]",
      "text/html": "<div>\n<style scoped>\n    .dataframe tbody tr th:only-of-type {\n        vertical-align: middle;\n    }\n\n    .dataframe tbody tr th {\n        vertical-align: top;\n    }\n\n    .dataframe thead th {\n        text-align: right;\n    }\n</style>\n<table border=\"1\" class=\"dataframe\">\n  <thead>\n    <tr style=\"text-align: right;\">\n      <th></th>\n      <th>title</th>\n      <th>authors</th>\n      <th>categories</th>\n      <th>ratingsCount</th>\n    </tr>\n  </thead>\n  <tbody>\n    <tr>\n      <th>5</th>\n      <td>The Church of Christ: A Biblical Ecclesiology ...</td>\n      <td>['Everett Ferguson']</td>\n      <td>['Religion']</td>\n      <td>5.0</td>\n    </tr>\n    <tr>\n      <th>31</th>\n      <td>Voices from the Farm: Adventures in Community ...</td>\n      <td>['Rupert Fike']</td>\n      <td>['Biography &amp; Autobiography']</td>\n      <td>1.0</td>\n    </tr>\n    <tr>\n      <th>33</th>\n      <td>The Battleship Bismarck</td>\n      <td>['Stefan Draminski']</td>\n      <td>['History']</td>\n      <td>1.0</td>\n    </tr>\n    <tr>\n      <th>42</th>\n      <td>Tess and the Highlander</td>\n      <td>['May Mcgoldrick']</td>\n      <td>['Juvenile Fiction']</td>\n      <td>2.0</td>\n    </tr>\n    <tr>\n      <th>43</th>\n      <td>Beginner's Yoruba (Hippocrene Beginner's Series)</td>\n      <td>['Kayode J. Fakinlede']</td>\n      <td>['Foreign Language Study']</td>\n      <td>1.0</td>\n    </tr>\n    <tr>\n      <th>...</th>\n      <td>...</td>\n      <td>...</td>\n      <td>...</td>\n      <td>...</td>\n    </tr>\n    <tr>\n      <th>212374</th>\n      <td>Thin Within</td>\n      <td>['Judy Halliday', 'Arthur Halliday']</td>\n      <td>['Health &amp; Fitness']</td>\n      <td>9.0</td>\n    </tr>\n    <tr>\n      <th>212392</th>\n      <td>The Awakening and Selected Stories (Modern Lib...</td>\n      <td>['Kate Chopin']</td>\n      <td>['Adultery']</td>\n      <td>2.0</td>\n    </tr>\n    <tr>\n      <th>212394</th>\n      <td>Final things</td>\n      <td>['Jenny Offill']</td>\n      <td>['Fiction']</td>\n      <td>4.0</td>\n    </tr>\n    <tr>\n      <th>212399</th>\n      <td>The Orphan Of Ellis Island (Time Travel Advent...</td>\n      <td>['Elvira Woodruff']</td>\n      <td>['Juvenile Fiction']</td>\n      <td>2.0</td>\n    </tr>\n    <tr>\n      <th>212402</th>\n      <td>The Autograph Man</td>\n      <td>['Zadie Smith']</td>\n      <td>['Fiction']</td>\n      <td>19.0</td>\n    </tr>\n  </tbody>\n</table>\n<p>47269 rows × 4 columns</p>\n</div>"
     },
     "execution_count": 8,
     "metadata": {},
     "output_type": "execute_result"
    }
   ],
   "source": [
    "books.dropna(subset=['title'], inplace=True)\n",
    "books.dropna(subset=['ratingsCount'], inplace=True)\n",
    "books.dropna(subset=['authors'], inplace=True)\n",
    "books.dropna(subset=['categories'], inplace=True)\n",
    "books"
   ],
   "metadata": {
    "collapsed": false,
    "ExecuteTime": {
     "end_time": "2023-10-04T08:42:34.936816600Z",
     "start_time": "2023-10-04T08:42:34.701127200Z"
    }
   }
  },
  {
   "cell_type": "markdown",
   "source": [
    "Data pada buku tersisa *47269* dari *212404*"
   ],
   "metadata": {
    "collapsed": false
   }
  },
  {
   "cell_type": "markdown",
   "source": [
    "#### 5.1.2 Extraction Feature"
   ],
   "metadata": {
    "collapsed": false
   }
  },
  {
   "cell_type": "code",
   "execution_count": 9,
   "outputs": [
    {
     "data": {
      "text/plain": "array(['11030', '1339', '1453', ..., 'zen', 'état', 'états'], dtype=object)"
     },
     "execution_count": 9,
     "metadata": {},
     "output_type": "execute_result"
    }
   ],
   "source": [
    "tf = TfidfVectorizer()\n",
    "tf.fit(books['categories'])\n",
    "tf.get_feature_names_out()"
   ],
   "metadata": {
    "collapsed": false,
    "ExecuteTime": {
     "end_time": "2023-10-04T08:42:35.065523Z",
     "start_time": "2023-10-04T08:42:34.795766200Z"
    }
   }
  },
  {
   "cell_type": "code",
   "execution_count": 29,
   "outputs": [
    {
     "name": "stdout",
     "output_type": "stream",
     "text": [
      "(47269, 2671)\n"
     ]
    }
   ],
   "source": [
    "tfidf_matrix = tf.fit_transform(books['categories'])\n",
    "print(tfidf_matrix.shape)"
   ],
   "metadata": {
    "collapsed": false,
    "ExecuteTime": {
     "end_time": "2023-10-03T08:16:50.054097600Z",
     "start_time": "2023-10-03T08:16:49.893344700Z"
    }
   }
  },
  {
   "cell_type": "code",
   "execution_count": 30,
   "outputs": [],
   "source": [
    "tfidf_dense_matrix = tfidf_matrix.toarray()"
   ],
   "metadata": {
    "collapsed": false,
    "ExecuteTime": {
     "end_time": "2023-10-03T08:16:52.265461800Z",
     "start_time": "2023-10-03T08:16:52.185364600Z"
    }
   }
  },
  {
   "cell_type": "code",
   "execution_count": 31,
   "outputs": [],
   "source": [
    "from scipy import sparse\n",
    "tfidf_sparse_matrix = sparse.csr_matrix(tfidf_dense_matrix)"
   ],
   "metadata": {
    "collapsed": false,
    "ExecuteTime": {
     "end_time": "2023-10-03T08:16:54.571522200Z",
     "start_time": "2023-10-03T08:16:53.468212200Z"
    }
   }
  },
  {
   "cell_type": "code",
   "execution_count": 32,
   "outputs": [
    {
     "data": {
      "text/plain": "                                                    businesswomen  cheyenne  \\\ntitle                                                                         \n77 Rue Paradis (He met a gutter angel on the ra...            0.0       0.0   \nThe Christian Assembly                                        0.0       0.0   \nLegal Guide For Starting & Running A Small Busi...            0.0       0.0   \nLamb in the Laundry (Animal Ark Series #12)                   0.0       0.0   \nInventing Japan, 1853-1964 (Modern Library Chro...            0.0       0.0   \nRutherford B. Hayes                                           0.0       0.0   \nGathering the Sun / Recogiendo El Sol Un Abeced...            0.0       0.0   \nA Naval History of World War I                                0.0       0.0   \nThe Black Man's Burden: Africa and the Curse of...            0.0       0.0   \nASIMOV'S SCIENCE FICTION - Spring 1977 (Vol. 1,...            0.0       0.0   \n\n                                                    piano  florence  1921  \\\ntitle                                                                       \n77 Rue Paradis (He met a gutter angel on the ra...    0.0       0.0   0.0   \nThe Christian Assembly                                0.0       0.0   0.0   \nLegal Guide For Starting & Running A Small Busi...    0.0       0.0   0.0   \nLamb in the Laundry (Animal Ark Series #12)           0.0       0.0   0.0   \nInventing Japan, 1853-1964 (Modern Library Chro...    0.0       0.0   0.0   \nRutherford B. Hayes                                   0.0       0.0   0.0   \nGathering the Sun / Recogiendo El Sol Un Abeced...    0.0       0.0   0.0   \nA Naval History of World War I                        0.0       0.0   0.0   \nThe Black Man's Burden: Africa and the Curse of...    0.0       0.0   0.0   \nASIMOV'S SCIENCE FICTION - Spring 1977 (Vol. 1,...    0.0       0.0   0.0   \n\n                                                    botany  postal  creek  \\\ntitle                                                                       \n77 Rue Paradis (He met a gutter angel on the ra...     0.0     0.0    0.0   \nThe Christian Assembly                                 0.0     0.0    0.0   \nLegal Guide For Starting & Running A Small Busi...     0.0     0.0    0.0   \nLamb in the Laundry (Animal Ark Series #12)            0.0     0.0    0.0   \nInventing Japan, 1853-1964 (Modern Library Chro...     0.0     0.0    0.0   \nRutherford B. Hayes                                    0.0     0.0    0.0   \nGathering the Sun / Recogiendo El Sol Un Abeced...     0.0     0.0    0.0   \nA Naval History of World War I                         0.0     0.0    0.0   \nThe Black Man's Burden: Africa and the Curse of...     0.0     0.0    0.0   \nASIMOV'S SCIENCE FICTION - Spring 1977 (Vol. 1,...     0.0     0.0    0.0   \n\n                                                    education  caldecott  ...  \\\ntitle                                                                     ...   \n77 Rue Paradis (He met a gutter angel on the ra...        0.0        0.0  ...   \nThe Christian Assembly                                    0.0        0.0  ...   \nLegal Guide For Starting & Running A Small Busi...        0.0        0.0  ...   \nLamb in the Laundry (Animal Ark Series #12)               0.0        0.0  ...   \nInventing Japan, 1853-1964 (Modern Library Chro...        0.0        0.0  ...   \nRutherford B. Hayes                                       0.0        0.0  ...   \nGathering the Sun / Recogiendo El Sol Un Abeced...        0.0        0.0  ...   \nA Naval History of World War I                            0.0        0.0  ...   \nThe Black Man's Burden: Africa and the Curse of...        0.0        0.0  ...   \nASIMOV'S SCIENCE FICTION - Spring 1977 (Vol. 1,...        0.0        0.0  ...   \n\n                                                    minh  depersonalization  \\\ntitle                                                                         \n77 Rue Paradis (He met a gutter angel on the ra...   0.0                0.0   \nThe Christian Assembly                               0.0                0.0   \nLegal Guide For Starting & Running A Small Busi...   0.0                0.0   \nLamb in the Laundry (Animal Ark Series #12)          0.0                0.0   \nInventing Japan, 1853-1964 (Modern Library Chro...   0.0                0.0   \nRutherford B. Hayes                                  0.0                0.0   \nGathering the Sun / Recogiendo El Sol Un Abeced...   0.0                0.0   \nA Naval History of World War I                       0.0                0.0   \nThe Black Man's Burden: Africa and the Curse of...   0.0                0.0   \nASIMOV'S SCIENCE FICTION - Spring 1977 (Vol. 1,...   0.0                0.0   \n\n                                                    places  creation  \\\ntitle                                                                  \n77 Rue Paradis (He met a gutter angel on the ra...     0.0       0.0   \nThe Christian Assembly                                 0.0       0.0   \nLegal Guide For Starting & Running A Small Busi...     0.0       0.0   \nLamb in the Laundry (Animal Ark Series #12)            0.0       0.0   \nInventing Japan, 1853-1964 (Modern Library Chro...     0.0       0.0   \nRutherford B. Hayes                                    0.0       0.0   \nGathering the Sun / Recogiendo El Sol Un Abeced...     0.0       0.0   \nA Naval History of World War I                         0.0       0.0   \nThe Black Man's Burden: Africa and the Curse of...     0.0       0.0   \nASIMOV'S SCIENCE FICTION - Spring 1977 (Vol. 1,...     0.0       0.0   \n\n                                                    scientists  regions  toys  \\\ntitle                                                                           \n77 Rue Paradis (He met a gutter angel on the ra...         0.0      0.0   0.0   \nThe Christian Assembly                                     0.0      0.0   0.0   \nLegal Guide For Starting & Running A Small Busi...         0.0      0.0   0.0   \nLamb in the Laundry (Animal Ark Series #12)                0.0      0.0   0.0   \nInventing Japan, 1853-1964 (Modern Library Chro...         0.0      0.0   0.0   \nRutherford B. Hayes                                        0.0      0.0   0.0   \nGathering the Sun / Recogiendo El Sol Un Abeced...         0.0      0.0   0.0   \nA Naval History of World War I                             0.0      0.0   0.0   \nThe Black Man's Burden: Africa and the Curse of...         0.0      0.0   0.0   \nASIMOV'S SCIENCE FICTION - Spring 1977 (Vol. 1,...         0.0      0.0   0.0   \n\n                                                    research  tax  european  \ntitle                                                                        \n77 Rue Paradis (He met a gutter angel on the ra...       0.0  0.0       0.0  \nThe Christian Assembly                                   0.0  0.0       0.0  \nLegal Guide For Starting & Running A Small Busi...       0.0  0.0       0.0  \nLamb in the Laundry (Animal Ark Series #12)              0.0  0.0       0.0  \nInventing Japan, 1853-1964 (Modern Library Chro...       0.0  0.0       0.0  \nRutherford B. Hayes                                      0.0  0.0       0.0  \nGathering the Sun / Recogiendo El Sol Un Abeced...       0.0  0.0       0.0  \nA Naval History of World War I                           0.0  0.0       0.0  \nThe Black Man's Burden: Africa and the Curse of...       0.0  0.0       0.0  \nASIMOV'S SCIENCE FICTION - Spring 1977 (Vol. 1,...       0.0  0.0       0.0  \n\n[10 rows x 100 columns]",
      "text/html": "<div>\n<style scoped>\n    .dataframe tbody tr th:only-of-type {\n        vertical-align: middle;\n    }\n\n    .dataframe tbody tr th {\n        vertical-align: top;\n    }\n\n    .dataframe thead th {\n        text-align: right;\n    }\n</style>\n<table border=\"1\" class=\"dataframe\">\n  <thead>\n    <tr style=\"text-align: right;\">\n      <th></th>\n      <th>businesswomen</th>\n      <th>cheyenne</th>\n      <th>piano</th>\n      <th>florence</th>\n      <th>1921</th>\n      <th>botany</th>\n      <th>postal</th>\n      <th>creek</th>\n      <th>education</th>\n      <th>caldecott</th>\n      <th>...</th>\n      <th>minh</th>\n      <th>depersonalization</th>\n      <th>places</th>\n      <th>creation</th>\n      <th>scientists</th>\n      <th>regions</th>\n      <th>toys</th>\n      <th>research</th>\n      <th>tax</th>\n      <th>european</th>\n    </tr>\n    <tr>\n      <th>title</th>\n      <th></th>\n      <th></th>\n      <th></th>\n      <th></th>\n      <th></th>\n      <th></th>\n      <th></th>\n      <th></th>\n      <th></th>\n      <th></th>\n      <th></th>\n      <th></th>\n      <th></th>\n      <th></th>\n      <th></th>\n      <th></th>\n      <th></th>\n      <th></th>\n      <th></th>\n      <th></th>\n      <th></th>\n    </tr>\n  </thead>\n  <tbody>\n    <tr>\n      <th>77 Rue Paradis (He met a gutter angel on the radway to hell)</th>\n      <td>0.0</td>\n      <td>0.0</td>\n      <td>0.0</td>\n      <td>0.0</td>\n      <td>0.0</td>\n      <td>0.0</td>\n      <td>0.0</td>\n      <td>0.0</td>\n      <td>0.0</td>\n      <td>0.0</td>\n      <td>...</td>\n      <td>0.0</td>\n      <td>0.0</td>\n      <td>0.0</td>\n      <td>0.0</td>\n      <td>0.0</td>\n      <td>0.0</td>\n      <td>0.0</td>\n      <td>0.0</td>\n      <td>0.0</td>\n      <td>0.0</td>\n    </tr>\n    <tr>\n      <th>The Christian Assembly</th>\n      <td>0.0</td>\n      <td>0.0</td>\n      <td>0.0</td>\n      <td>0.0</td>\n      <td>0.0</td>\n      <td>0.0</td>\n      <td>0.0</td>\n      <td>0.0</td>\n      <td>0.0</td>\n      <td>0.0</td>\n      <td>...</td>\n      <td>0.0</td>\n      <td>0.0</td>\n      <td>0.0</td>\n      <td>0.0</td>\n      <td>0.0</td>\n      <td>0.0</td>\n      <td>0.0</td>\n      <td>0.0</td>\n      <td>0.0</td>\n      <td>0.0</td>\n    </tr>\n    <tr>\n      <th>Legal Guide For Starting &amp; Running A Small Business (8th Edition)</th>\n      <td>0.0</td>\n      <td>0.0</td>\n      <td>0.0</td>\n      <td>0.0</td>\n      <td>0.0</td>\n      <td>0.0</td>\n      <td>0.0</td>\n      <td>0.0</td>\n      <td>0.0</td>\n      <td>0.0</td>\n      <td>...</td>\n      <td>0.0</td>\n      <td>0.0</td>\n      <td>0.0</td>\n      <td>0.0</td>\n      <td>0.0</td>\n      <td>0.0</td>\n      <td>0.0</td>\n      <td>0.0</td>\n      <td>0.0</td>\n      <td>0.0</td>\n    </tr>\n    <tr>\n      <th>Lamb in the Laundry (Animal Ark Series #12)</th>\n      <td>0.0</td>\n      <td>0.0</td>\n      <td>0.0</td>\n      <td>0.0</td>\n      <td>0.0</td>\n      <td>0.0</td>\n      <td>0.0</td>\n      <td>0.0</td>\n      <td>0.0</td>\n      <td>0.0</td>\n      <td>...</td>\n      <td>0.0</td>\n      <td>0.0</td>\n      <td>0.0</td>\n      <td>0.0</td>\n      <td>0.0</td>\n      <td>0.0</td>\n      <td>0.0</td>\n      <td>0.0</td>\n      <td>0.0</td>\n      <td>0.0</td>\n    </tr>\n    <tr>\n      <th>Inventing Japan, 1853-1964 (Modern Library Chronicles)</th>\n      <td>0.0</td>\n      <td>0.0</td>\n      <td>0.0</td>\n      <td>0.0</td>\n      <td>0.0</td>\n      <td>0.0</td>\n      <td>0.0</td>\n      <td>0.0</td>\n      <td>0.0</td>\n      <td>0.0</td>\n      <td>...</td>\n      <td>0.0</td>\n      <td>0.0</td>\n      <td>0.0</td>\n      <td>0.0</td>\n      <td>0.0</td>\n      <td>0.0</td>\n      <td>0.0</td>\n      <td>0.0</td>\n      <td>0.0</td>\n      <td>0.0</td>\n    </tr>\n    <tr>\n      <th>Rutherford B. Hayes</th>\n      <td>0.0</td>\n      <td>0.0</td>\n      <td>0.0</td>\n      <td>0.0</td>\n      <td>0.0</td>\n      <td>0.0</td>\n      <td>0.0</td>\n      <td>0.0</td>\n      <td>0.0</td>\n      <td>0.0</td>\n      <td>...</td>\n      <td>0.0</td>\n      <td>0.0</td>\n      <td>0.0</td>\n      <td>0.0</td>\n      <td>0.0</td>\n      <td>0.0</td>\n      <td>0.0</td>\n      <td>0.0</td>\n      <td>0.0</td>\n      <td>0.0</td>\n    </tr>\n    <tr>\n      <th>Gathering the Sun / Recogiendo El Sol Un Abecedar: An Alphabet in Spanish and English</th>\n      <td>0.0</td>\n      <td>0.0</td>\n      <td>0.0</td>\n      <td>0.0</td>\n      <td>0.0</td>\n      <td>0.0</td>\n      <td>0.0</td>\n      <td>0.0</td>\n      <td>0.0</td>\n      <td>0.0</td>\n      <td>...</td>\n      <td>0.0</td>\n      <td>0.0</td>\n      <td>0.0</td>\n      <td>0.0</td>\n      <td>0.0</td>\n      <td>0.0</td>\n      <td>0.0</td>\n      <td>0.0</td>\n      <td>0.0</td>\n      <td>0.0</td>\n    </tr>\n    <tr>\n      <th>A Naval History of World War I</th>\n      <td>0.0</td>\n      <td>0.0</td>\n      <td>0.0</td>\n      <td>0.0</td>\n      <td>0.0</td>\n      <td>0.0</td>\n      <td>0.0</td>\n      <td>0.0</td>\n      <td>0.0</td>\n      <td>0.0</td>\n      <td>...</td>\n      <td>0.0</td>\n      <td>0.0</td>\n      <td>0.0</td>\n      <td>0.0</td>\n      <td>0.0</td>\n      <td>0.0</td>\n      <td>0.0</td>\n      <td>0.0</td>\n      <td>0.0</td>\n      <td>0.0</td>\n    </tr>\n    <tr>\n      <th>The Black Man's Burden: Africa and the Curse of the Nation-State</th>\n      <td>0.0</td>\n      <td>0.0</td>\n      <td>0.0</td>\n      <td>0.0</td>\n      <td>0.0</td>\n      <td>0.0</td>\n      <td>0.0</td>\n      <td>0.0</td>\n      <td>0.0</td>\n      <td>0.0</td>\n      <td>...</td>\n      <td>0.0</td>\n      <td>0.0</td>\n      <td>0.0</td>\n      <td>0.0</td>\n      <td>0.0</td>\n      <td>0.0</td>\n      <td>0.0</td>\n      <td>0.0</td>\n      <td>0.0</td>\n      <td>0.0</td>\n    </tr>\n    <tr>\n      <th>ASIMOV'S SCIENCE FICTION - Spring 1977 (Vol. 1, #1)</th>\n      <td>0.0</td>\n      <td>0.0</td>\n      <td>0.0</td>\n      <td>0.0</td>\n      <td>0.0</td>\n      <td>0.0</td>\n      <td>0.0</td>\n      <td>0.0</td>\n      <td>0.0</td>\n      <td>0.0</td>\n      <td>...</td>\n      <td>0.0</td>\n      <td>0.0</td>\n      <td>0.0</td>\n      <td>0.0</td>\n      <td>0.0</td>\n      <td>0.0</td>\n      <td>0.0</td>\n      <td>0.0</td>\n      <td>0.0</td>\n      <td>0.0</td>\n    </tr>\n  </tbody>\n</table>\n<p>10 rows × 100 columns</p>\n</div>"
     },
     "execution_count": 32,
     "metadata": {},
     "output_type": "execute_result"
    }
   ],
   "source": [
    "pd.DataFrame(\n",
    "    tfidf_matrix.todense(),\n",
    "    columns=tf.get_feature_names_out(),\n",
    "    index=books.title\n",
    ").sample(100, axis=1).sample(10, axis=0)"
   ],
   "metadata": {
    "collapsed": false,
    "ExecuteTime": {
     "end_time": "2023-10-03T08:16:56.112660100Z",
     "start_time": "2023-10-03T08:16:55.562336400Z"
    }
   }
  },
  {
   "cell_type": "markdown",
   "source": [
    "### 5.2 Collaborative Filtering"
   ],
   "metadata": {
    "collapsed": false
   }
  },
  {
   "cell_type": "markdown",
   "source": [
    "#### 5.2.1 Merge Data Books & Ratings\n",
    "Merge akan dilakukan berdasarkan title dan akan disimpan di variable baru"
   ],
   "metadata": {
    "collapsed": false
   }
  },
  {
   "cell_type": "code",
   "execution_count": 10,
   "outputs": [],
   "source": [
    "rating_books = pd.merge(books, ratings, on='title', how='left')"
   ],
   "metadata": {
    "collapsed": false,
    "ExecuteTime": {
     "end_time": "2023-10-04T08:45:01.048059800Z",
     "start_time": "2023-10-04T08:44:59.955626900Z"
    }
   }
  },
  {
   "cell_type": "code",
   "execution_count": 11,
   "outputs": [
    {
     "data": {
      "text/plain": "                                                     title  \\\n0        The Church of Christ: A Biblical Ecclesiology ...   \n1        The Church of Christ: A Biblical Ecclesiology ...   \n2        The Church of Christ: A Biblical Ecclesiology ...   \n3        The Church of Christ: A Biblical Ecclesiology ...   \n4        Voices from the Farm: Adventures in Community ...   \n...                                                    ...   \n1549918  The Orphan Of Ellis Island (Time Travel Advent...   \n1549919                                  The Autograph Man   \n1549920                                  The Autograph Man   \n1549921                                  The Autograph Man   \n1549922                                  The Autograph Man   \n\n                      authors                     categories  ratingsCount  \\\n0        ['Everett Ferguson']                   ['Religion']           5.0   \n1        ['Everett Ferguson']                   ['Religion']           5.0   \n2        ['Everett Ferguson']                   ['Religion']           5.0   \n3        ['Everett Ferguson']                   ['Religion']           5.0   \n4             ['Rupert Fike']  ['Biography & Autobiography']           1.0   \n...                       ...                            ...           ...   \n1549918   ['Elvira Woodruff']           ['Juvenile Fiction']           2.0   \n1549919       ['Zadie Smith']                    ['Fiction']          19.0   \n1549920       ['Zadie Smith']                    ['Fiction']          19.0   \n1549921       ['Zadie Smith']                    ['Fiction']          19.0   \n1549922       ['Zadie Smith']                    ['Fiction']          19.0   \n\n                 userId           profileName  score  \\\n0         ARI272XF8TOL4   Christopher J. Bray    5.0   \n1         A36TPZSH8LBT1               haskell    5.0   \n2         ANX3DDV12ZRRU  GodsBreath.wordpress    4.0   \n3        A2H2LORTA5EZY2        Edward E. Howe    4.0   \n4         A3W1KIKQ93S62       John Washington    5.0   \n...                 ...                   ...    ...   \n1549918             NaN                   NaN    5.0   \n1549919  A27UK6LI19NDNO    maryzeus \"maryzzz\"    1.0   \n1549920  A3N4CDTH72ZVDS      Matko Vladanovic    4.0   \n1549921  A16IDI50I9SR5V               \"tyuro\"    3.0   \n1549922  A2UDBTV5ULMCFF  Flotte Lotte \"Flolo\"    2.0   \n\n                                                   summary  \n0                                Ecclesiological Milestone  \n1                Early Christian development of the Church  \n2        An Excellent Presentation of the Beliefs of th...  \n3                                           Christ is Lord  \n4        Excellent perspective on communal living and h...  \n...                                                    ...  \n1549918                         Best Book I have Ever Read  \n1549919                                     very fractured  \n1549920                       The quest for the holy Grail  \n1549921   Looking For Spirituality in All The Wrong Places  \n1549922                                          Hard work  \n\n[1549923 rows x 8 columns]",
      "text/html": "<div>\n<style scoped>\n    .dataframe tbody tr th:only-of-type {\n        vertical-align: middle;\n    }\n\n    .dataframe tbody tr th {\n        vertical-align: top;\n    }\n\n    .dataframe thead th {\n        text-align: right;\n    }\n</style>\n<table border=\"1\" class=\"dataframe\">\n  <thead>\n    <tr style=\"text-align: right;\">\n      <th></th>\n      <th>title</th>\n      <th>authors</th>\n      <th>categories</th>\n      <th>ratingsCount</th>\n      <th>userId</th>\n      <th>profileName</th>\n      <th>score</th>\n      <th>summary</th>\n    </tr>\n  </thead>\n  <tbody>\n    <tr>\n      <th>0</th>\n      <td>The Church of Christ: A Biblical Ecclesiology ...</td>\n      <td>['Everett Ferguson']</td>\n      <td>['Religion']</td>\n      <td>5.0</td>\n      <td>ARI272XF8TOL4</td>\n      <td>Christopher J. Bray</td>\n      <td>5.0</td>\n      <td>Ecclesiological Milestone</td>\n    </tr>\n    <tr>\n      <th>1</th>\n      <td>The Church of Christ: A Biblical Ecclesiology ...</td>\n      <td>['Everett Ferguson']</td>\n      <td>['Religion']</td>\n      <td>5.0</td>\n      <td>A36TPZSH8LBT1</td>\n      <td>haskell</td>\n      <td>5.0</td>\n      <td>Early Christian development of the Church</td>\n    </tr>\n    <tr>\n      <th>2</th>\n      <td>The Church of Christ: A Biblical Ecclesiology ...</td>\n      <td>['Everett Ferguson']</td>\n      <td>['Religion']</td>\n      <td>5.0</td>\n      <td>ANX3DDV12ZRRU</td>\n      <td>GodsBreath.wordpress</td>\n      <td>4.0</td>\n      <td>An Excellent Presentation of the Beliefs of th...</td>\n    </tr>\n    <tr>\n      <th>3</th>\n      <td>The Church of Christ: A Biblical Ecclesiology ...</td>\n      <td>['Everett Ferguson']</td>\n      <td>['Religion']</td>\n      <td>5.0</td>\n      <td>A2H2LORTA5EZY2</td>\n      <td>Edward E. Howe</td>\n      <td>4.0</td>\n      <td>Christ is Lord</td>\n    </tr>\n    <tr>\n      <th>4</th>\n      <td>Voices from the Farm: Adventures in Community ...</td>\n      <td>['Rupert Fike']</td>\n      <td>['Biography &amp; Autobiography']</td>\n      <td>1.0</td>\n      <td>A3W1KIKQ93S62</td>\n      <td>John Washington</td>\n      <td>5.0</td>\n      <td>Excellent perspective on communal living and h...</td>\n    </tr>\n    <tr>\n      <th>...</th>\n      <td>...</td>\n      <td>...</td>\n      <td>...</td>\n      <td>...</td>\n      <td>...</td>\n      <td>...</td>\n      <td>...</td>\n      <td>...</td>\n    </tr>\n    <tr>\n      <th>1549918</th>\n      <td>The Orphan Of Ellis Island (Time Travel Advent...</td>\n      <td>['Elvira Woodruff']</td>\n      <td>['Juvenile Fiction']</td>\n      <td>2.0</td>\n      <td>NaN</td>\n      <td>NaN</td>\n      <td>5.0</td>\n      <td>Best Book I have Ever Read</td>\n    </tr>\n    <tr>\n      <th>1549919</th>\n      <td>The Autograph Man</td>\n      <td>['Zadie Smith']</td>\n      <td>['Fiction']</td>\n      <td>19.0</td>\n      <td>A27UK6LI19NDNO</td>\n      <td>maryzeus \"maryzzz\"</td>\n      <td>1.0</td>\n      <td>very fractured</td>\n    </tr>\n    <tr>\n      <th>1549920</th>\n      <td>The Autograph Man</td>\n      <td>['Zadie Smith']</td>\n      <td>['Fiction']</td>\n      <td>19.0</td>\n      <td>A3N4CDTH72ZVDS</td>\n      <td>Matko Vladanovic</td>\n      <td>4.0</td>\n      <td>The quest for the holy Grail</td>\n    </tr>\n    <tr>\n      <th>1549921</th>\n      <td>The Autograph Man</td>\n      <td>['Zadie Smith']</td>\n      <td>['Fiction']</td>\n      <td>19.0</td>\n      <td>A16IDI50I9SR5V</td>\n      <td>\"tyuro\"</td>\n      <td>3.0</td>\n      <td>Looking For Spirituality in All The Wrong Places</td>\n    </tr>\n    <tr>\n      <th>1549922</th>\n      <td>The Autograph Man</td>\n      <td>['Zadie Smith']</td>\n      <td>['Fiction']</td>\n      <td>19.0</td>\n      <td>A2UDBTV5ULMCFF</td>\n      <td>Flotte Lotte \"Flolo\"</td>\n      <td>2.0</td>\n      <td>Hard work</td>\n    </tr>\n  </tbody>\n</table>\n<p>1549923 rows × 8 columns</p>\n</div>"
     },
     "execution_count": 11,
     "metadata": {},
     "output_type": "execute_result"
    }
   ],
   "source": [
    "rating_books\n"
   ],
   "metadata": {
    "collapsed": false,
    "ExecuteTime": {
     "end_time": "2023-10-04T08:45:04.224792700Z",
     "start_time": "2023-10-04T08:45:04.193540700Z"
    }
   }
  },
  {
   "cell_type": "markdown",
   "source": [
    "#### 5.2.2 Menangani Missing Value pada data rating_books yang telah di merge"
   ],
   "metadata": {
    "collapsed": false
   }
  },
  {
   "cell_type": "code",
   "execution_count": 12,
   "outputs": [
    {
     "data": {
      "text/plain": "title                0\nauthors              0\ncategories           0\nratingsCount         0\nuserId          305631\nprofileName     305701\nscore                0\nsummary            228\ndtype: int64"
     },
     "execution_count": 12,
     "metadata": {},
     "output_type": "execute_result"
    }
   ],
   "source": [
    "rating_books.isna().sum()"
   ],
   "metadata": {
    "collapsed": false,
    "ExecuteTime": {
     "end_time": "2023-10-04T08:45:15.891850900Z",
     "start_time": "2023-10-04T08:45:15.565453300Z"
    }
   }
  },
  {
   "cell_type": "code",
   "execution_count": 13,
   "outputs": [],
   "source": [
    "rating_books.dropna(subset=['userId'], inplace=True)\n",
    "rating_books.dropna(subset=['profileName'], inplace=True)\n",
    "rating_books.dropna(subset=['summary'], inplace=True)"
   ],
   "metadata": {
    "collapsed": false,
    "ExecuteTime": {
     "end_time": "2023-10-04T08:45:19.536732Z",
     "start_time": "2023-10-04T08:45:18.210988900Z"
    }
   }
  },
  {
   "cell_type": "code",
   "execution_count": 13,
   "outputs": [
    {
     "data": {
      "text/plain": "                                                     title  \\\n0        The Church of Christ: A Biblical Ecclesiology ...   \n1        The Church of Christ: A Biblical Ecclesiology ...   \n2        The Church of Christ: A Biblical Ecclesiology ...   \n3        The Church of Christ: A Biblical Ecclesiology ...   \n4        Voices from the Farm: Adventures in Community ...   \n...                                                    ...   \n1549916  The Orphan Of Ellis Island (Time Travel Advent...   \n1549919                                  The Autograph Man   \n1549920                                  The Autograph Man   \n1549921                                  The Autograph Man   \n1549922                                  The Autograph Man   \n\n                      authors                     categories  ratingsCount  \\\n0        ['Everett Ferguson']                   ['Religion']           5.0   \n1        ['Everett Ferguson']                   ['Religion']           5.0   \n2        ['Everett Ferguson']                   ['Religion']           5.0   \n3        ['Everett Ferguson']                   ['Religion']           5.0   \n4             ['Rupert Fike']  ['Biography & Autobiography']           1.0   \n...                       ...                            ...           ...   \n1549916   ['Elvira Woodruff']           ['Juvenile Fiction']           2.0   \n1549919       ['Zadie Smith']                    ['Fiction']          19.0   \n1549920       ['Zadie Smith']                    ['Fiction']          19.0   \n1549921       ['Zadie Smith']                    ['Fiction']          19.0   \n1549922       ['Zadie Smith']                    ['Fiction']          19.0   \n\n                 userId           profileName  score  \\\n0         ARI272XF8TOL4   Christopher J. Bray    5.0   \n1         A36TPZSH8LBT1               haskell    5.0   \n2         ANX3DDV12ZRRU  GodsBreath.wordpress    4.0   \n3        A2H2LORTA5EZY2        Edward E. Howe    4.0   \n4         A3W1KIKQ93S62       John Washington    5.0   \n...                 ...                   ...    ...   \n1549916  A3T6R1GAFRP1I9               jwinter    4.0   \n1549919  A27UK6LI19NDNO    maryzeus \"maryzzz\"    1.0   \n1549920  A3N4CDTH72ZVDS      Matko Vladanovic    4.0   \n1549921  A16IDI50I9SR5V               \"tyuro\"    3.0   \n1549922  A2UDBTV5ULMCFF  Flotte Lotte \"Flolo\"    2.0   \n\n                                                   summary  \n0                                Ecclesiological Milestone  \n1                Early Christian development of the Church  \n2        An Excellent Presentation of the Beliefs of th...  \n3                                           Christ is Lord  \n4        Excellent perspective on communal living and h...  \n...                                                    ...  \n1549916                              Good and sad book!!!!  \n1549919                                     very fractured  \n1549920                       The quest for the holy Grail  \n1549921   Looking For Spirituality in All The Wrong Places  \n1549922                                          Hard work  \n\n[1244003 rows x 8 columns]",
      "text/html": "<div>\n<style scoped>\n    .dataframe tbody tr th:only-of-type {\n        vertical-align: middle;\n    }\n\n    .dataframe tbody tr th {\n        vertical-align: top;\n    }\n\n    .dataframe thead th {\n        text-align: right;\n    }\n</style>\n<table border=\"1\" class=\"dataframe\">\n  <thead>\n    <tr style=\"text-align: right;\">\n      <th></th>\n      <th>title</th>\n      <th>authors</th>\n      <th>categories</th>\n      <th>ratingsCount</th>\n      <th>userId</th>\n      <th>profileName</th>\n      <th>score</th>\n      <th>summary</th>\n    </tr>\n  </thead>\n  <tbody>\n    <tr>\n      <th>0</th>\n      <td>The Church of Christ: A Biblical Ecclesiology ...</td>\n      <td>['Everett Ferguson']</td>\n      <td>['Religion']</td>\n      <td>5.0</td>\n      <td>ARI272XF8TOL4</td>\n      <td>Christopher J. Bray</td>\n      <td>5.0</td>\n      <td>Ecclesiological Milestone</td>\n    </tr>\n    <tr>\n      <th>1</th>\n      <td>The Church of Christ: A Biblical Ecclesiology ...</td>\n      <td>['Everett Ferguson']</td>\n      <td>['Religion']</td>\n      <td>5.0</td>\n      <td>A36TPZSH8LBT1</td>\n      <td>haskell</td>\n      <td>5.0</td>\n      <td>Early Christian development of the Church</td>\n    </tr>\n    <tr>\n      <th>2</th>\n      <td>The Church of Christ: A Biblical Ecclesiology ...</td>\n      <td>['Everett Ferguson']</td>\n      <td>['Religion']</td>\n      <td>5.0</td>\n      <td>ANX3DDV12ZRRU</td>\n      <td>GodsBreath.wordpress</td>\n      <td>4.0</td>\n      <td>An Excellent Presentation of the Beliefs of th...</td>\n    </tr>\n    <tr>\n      <th>3</th>\n      <td>The Church of Christ: A Biblical Ecclesiology ...</td>\n      <td>['Everett Ferguson']</td>\n      <td>['Religion']</td>\n      <td>5.0</td>\n      <td>A2H2LORTA5EZY2</td>\n      <td>Edward E. Howe</td>\n      <td>4.0</td>\n      <td>Christ is Lord</td>\n    </tr>\n    <tr>\n      <th>4</th>\n      <td>Voices from the Farm: Adventures in Community ...</td>\n      <td>['Rupert Fike']</td>\n      <td>['Biography &amp; Autobiography']</td>\n      <td>1.0</td>\n      <td>A3W1KIKQ93S62</td>\n      <td>John Washington</td>\n      <td>5.0</td>\n      <td>Excellent perspective on communal living and h...</td>\n    </tr>\n    <tr>\n      <th>...</th>\n      <td>...</td>\n      <td>...</td>\n      <td>...</td>\n      <td>...</td>\n      <td>...</td>\n      <td>...</td>\n      <td>...</td>\n      <td>...</td>\n    </tr>\n    <tr>\n      <th>1549916</th>\n      <td>The Orphan Of Ellis Island (Time Travel Advent...</td>\n      <td>['Elvira Woodruff']</td>\n      <td>['Juvenile Fiction']</td>\n      <td>2.0</td>\n      <td>A3T6R1GAFRP1I9</td>\n      <td>jwinter</td>\n      <td>4.0</td>\n      <td>Good and sad book!!!!</td>\n    </tr>\n    <tr>\n      <th>1549919</th>\n      <td>The Autograph Man</td>\n      <td>['Zadie Smith']</td>\n      <td>['Fiction']</td>\n      <td>19.0</td>\n      <td>A27UK6LI19NDNO</td>\n      <td>maryzeus \"maryzzz\"</td>\n      <td>1.0</td>\n      <td>very fractured</td>\n    </tr>\n    <tr>\n      <th>1549920</th>\n      <td>The Autograph Man</td>\n      <td>['Zadie Smith']</td>\n      <td>['Fiction']</td>\n      <td>19.0</td>\n      <td>A3N4CDTH72ZVDS</td>\n      <td>Matko Vladanovic</td>\n      <td>4.0</td>\n      <td>The quest for the holy Grail</td>\n    </tr>\n    <tr>\n      <th>1549921</th>\n      <td>The Autograph Man</td>\n      <td>['Zadie Smith']</td>\n      <td>['Fiction']</td>\n      <td>19.0</td>\n      <td>A16IDI50I9SR5V</td>\n      <td>\"tyuro\"</td>\n      <td>3.0</td>\n      <td>Looking For Spirituality in All The Wrong Places</td>\n    </tr>\n    <tr>\n      <th>1549922</th>\n      <td>The Autograph Man</td>\n      <td>['Zadie Smith']</td>\n      <td>['Fiction']</td>\n      <td>19.0</td>\n      <td>A2UDBTV5ULMCFF</td>\n      <td>Flotte Lotte \"Flolo\"</td>\n      <td>2.0</td>\n      <td>Hard work</td>\n    </tr>\n  </tbody>\n</table>\n<p>1244003 rows × 8 columns</p>\n</div>"
     },
     "execution_count": 13,
     "metadata": {},
     "output_type": "execute_result"
    }
   ],
   "source": [
    "rating_books"
   ],
   "metadata": {
    "collapsed": false,
    "ExecuteTime": {
     "end_time": "2023-10-03T08:16:05.741066300Z",
     "start_time": "2023-10-03T08:16:05.678056500Z"
    }
   }
  },
  {
   "cell_type": "markdown",
   "source": [
    "#### 5.2.3 Filrasi berbasis jumlah\n",
    "Untuk menghilangkan noise pada data. Dalam kasus ini, ada banyak pengguna yang hanya memberikan sedikit skor, dan skor tersebut bisa jadi menyesatkan model."
   ],
   "metadata": {
    "collapsed": false
   }
  },
  {
   "cell_type": "code",
   "execution_count": 14,
   "outputs": [
    {
     "data": {
      "text/plain": "                                                     title  \\\n5        Voices from the Farm: Adventures in Community ...   \n17                                 Tess and the Highlander   \n23                                 Tess and the Highlander   \n33                                 Tess and the Highlander   \n96       Communicating with Orcas - The Whales' Perspec...   \n...                                                    ...   \n1549849                                       Calder Pride   \n1549856                                      The Road Back   \n1549869                                        Thin Within   \n1549890                                       Final things   \n1549920                                  The Autograph Man   \n\n                                      authors                     categories  \\\n5                             ['Rupert Fike']  ['Biography & Autobiography']   \n17                         ['May Mcgoldrick']           ['Juvenile Fiction']   \n23                         ['May Mcgoldrick']           ['Juvenile Fiction']   \n33                         ['May Mcgoldrick']           ['Juvenile Fiction']   \n96                         ['Mary J. Getten']               ['Local author']   \n...                                       ...                            ...   \n1549849                      ['Janet Dailey']                    ['Fiction']   \n1549856              ['Erich Maria Remarque']                    ['Fiction']   \n1549869  ['Judy Halliday', 'Arthur Halliday']           ['Health & Fitness']   \n1549890                      ['Jenny Offill']                    ['Fiction']   \n1549920                       ['Zadie Smith']                    ['Fiction']   \n\n         ratingsCount          userId                          profileName  \\\n5                 1.0  A1ER5AYS3FQ9O3                   K. Corn \"reviewer\"   \n17                2.0  A2VCGJLKGK2WJJ                       Rebecca Herman   \n23                2.0  A1H72DULSEGDX7                      hiphopgirl_1000   \n33                2.0  A1DJMMJ4OQ2712                             \"celes1\"   \n96                1.0  A14OJS0VWMOSWO                  Midwest Book Review   \n...               ...             ...                                  ...   \n1549849           1.0  A170ILOIU1PZN7                       Romance junkie   \n1549856           6.0  A28ZOZJU5A30Z0                               Sean K   \n1549869           9.0  A2HM0BZWQRV1EF  Blaine Greenfield \"eclectic reader\"   \n1549890           4.0  A148R759F9JW0A                          othoniaboys   \n1549920          19.0  A3N4CDTH72ZVDS                     Matko Vladanovic   \n\n         score                                            summary  \n5          5.0  Intense memoir told in brief segments by forme...  \n17         5.0  My new favorite book from the Avon True Romanc...  \n23         5.0                                    A great romance  \n33         2.0                         Not the best in the series  \n96         5.0                     Makes for fascinating reading.  \n...        ...                                                ...  \n1549849    5.0                                         EXCELLENT!  \n1549856    5.0                 Much harder than surviving the war  \n1549869    5.0  Imagine achieving permanent weight loss withou...  \n1549890    4.0                    The only good one is a dead one  \n1549920    4.0                       The quest for the holy Grail  \n\n[211477 rows x 8 columns]",
      "text/html": "<div>\n<style scoped>\n    .dataframe tbody tr th:only-of-type {\n        vertical-align: middle;\n    }\n\n    .dataframe tbody tr th {\n        vertical-align: top;\n    }\n\n    .dataframe thead th {\n        text-align: right;\n    }\n</style>\n<table border=\"1\" class=\"dataframe\">\n  <thead>\n    <tr style=\"text-align: right;\">\n      <th></th>\n      <th>title</th>\n      <th>authors</th>\n      <th>categories</th>\n      <th>ratingsCount</th>\n      <th>userId</th>\n      <th>profileName</th>\n      <th>score</th>\n      <th>summary</th>\n    </tr>\n  </thead>\n  <tbody>\n    <tr>\n      <th>5</th>\n      <td>Voices from the Farm: Adventures in Community ...</td>\n      <td>['Rupert Fike']</td>\n      <td>['Biography &amp; Autobiography']</td>\n      <td>1.0</td>\n      <td>A1ER5AYS3FQ9O3</td>\n      <td>K. Corn \"reviewer\"</td>\n      <td>5.0</td>\n      <td>Intense memoir told in brief segments by forme...</td>\n    </tr>\n    <tr>\n      <th>17</th>\n      <td>Tess and the Highlander</td>\n      <td>['May Mcgoldrick']</td>\n      <td>['Juvenile Fiction']</td>\n      <td>2.0</td>\n      <td>A2VCGJLKGK2WJJ</td>\n      <td>Rebecca Herman</td>\n      <td>5.0</td>\n      <td>My new favorite book from the Avon True Romanc...</td>\n    </tr>\n    <tr>\n      <th>23</th>\n      <td>Tess and the Highlander</td>\n      <td>['May Mcgoldrick']</td>\n      <td>['Juvenile Fiction']</td>\n      <td>2.0</td>\n      <td>A1H72DULSEGDX7</td>\n      <td>hiphopgirl_1000</td>\n      <td>5.0</td>\n      <td>A great romance</td>\n    </tr>\n    <tr>\n      <th>33</th>\n      <td>Tess and the Highlander</td>\n      <td>['May Mcgoldrick']</td>\n      <td>['Juvenile Fiction']</td>\n      <td>2.0</td>\n      <td>A1DJMMJ4OQ2712</td>\n      <td>\"celes1\"</td>\n      <td>2.0</td>\n      <td>Not the best in the series</td>\n    </tr>\n    <tr>\n      <th>96</th>\n      <td>Communicating with Orcas - The Whales' Perspec...</td>\n      <td>['Mary J. Getten']</td>\n      <td>['Local author']</td>\n      <td>1.0</td>\n      <td>A14OJS0VWMOSWO</td>\n      <td>Midwest Book Review</td>\n      <td>5.0</td>\n      <td>Makes for fascinating reading.</td>\n    </tr>\n    <tr>\n      <th>...</th>\n      <td>...</td>\n      <td>...</td>\n      <td>...</td>\n      <td>...</td>\n      <td>...</td>\n      <td>...</td>\n      <td>...</td>\n      <td>...</td>\n    </tr>\n    <tr>\n      <th>1549849</th>\n      <td>Calder Pride</td>\n      <td>['Janet Dailey']</td>\n      <td>['Fiction']</td>\n      <td>1.0</td>\n      <td>A170ILOIU1PZN7</td>\n      <td>Romance junkie</td>\n      <td>5.0</td>\n      <td>EXCELLENT!</td>\n    </tr>\n    <tr>\n      <th>1549856</th>\n      <td>The Road Back</td>\n      <td>['Erich Maria Remarque']</td>\n      <td>['Fiction']</td>\n      <td>6.0</td>\n      <td>A28ZOZJU5A30Z0</td>\n      <td>Sean K</td>\n      <td>5.0</td>\n      <td>Much harder than surviving the war</td>\n    </tr>\n    <tr>\n      <th>1549869</th>\n      <td>Thin Within</td>\n      <td>['Judy Halliday', 'Arthur Halliday']</td>\n      <td>['Health &amp; Fitness']</td>\n      <td>9.0</td>\n      <td>A2HM0BZWQRV1EF</td>\n      <td>Blaine Greenfield \"eclectic reader\"</td>\n      <td>5.0</td>\n      <td>Imagine achieving permanent weight loss withou...</td>\n    </tr>\n    <tr>\n      <th>1549890</th>\n      <td>Final things</td>\n      <td>['Jenny Offill']</td>\n      <td>['Fiction']</td>\n      <td>4.0</td>\n      <td>A148R759F9JW0A</td>\n      <td>othoniaboys</td>\n      <td>4.0</td>\n      <td>The only good one is a dead one</td>\n    </tr>\n    <tr>\n      <th>1549920</th>\n      <td>The Autograph Man</td>\n      <td>['Zadie Smith']</td>\n      <td>['Fiction']</td>\n      <td>19.0</td>\n      <td>A3N4CDTH72ZVDS</td>\n      <td>Matko Vladanovic</td>\n      <td>4.0</td>\n      <td>The quest for the holy Grail</td>\n    </tr>\n  </tbody>\n</table>\n<p>211477 rows × 8 columns</p>\n</div>"
     },
     "execution_count": 14,
     "metadata": {},
     "output_type": "execute_result"
    }
   ],
   "source": [
    "x = rating_books.groupby('userId').count()['score'] > 20\n",
    "considerable_users = x[x].index\n",
    "filtered_rating = rating_books[rating_books['userId'].isin(considerable_users)]\n",
    "filtered_rating"
   ],
   "metadata": {
    "collapsed": false,
    "ExecuteTime": {
     "end_time": "2023-10-04T08:45:25.867923500Z",
     "start_time": "2023-10-04T08:45:23.240578Z"
    }
   }
  },
  {
   "cell_type": "markdown",
   "source": [
    "#### 5.2.4 Encoding dan Decoding"
   ],
   "metadata": {
    "collapsed": false
   }
  },
  {
   "cell_type": "code",
   "execution_count": 15,
   "outputs": [
    {
     "name": "stdout",
     "output_type": "stream",
     "text": [
      "list userID:  ['A1ER5AYS3FQ9O3', 'A2VCGJLKGK2WJJ', 'A1H72DULSEGDX7', 'A1DJMMJ4OQ2712', 'A14OJS0VWMOSWO', 'AUHG8KSHI529U', 'A1RJD10TTI568L', 'A2L7N2U5Z316ZE', 'A2KBHSK5BS35BH', 'A2WZON0QPX7C9X']\n"
     ]
    }
   ],
   "source": [
    "# Mengubah userID menjadi list tanpa nilai yang sama\n",
    "user_ids = filtered_rating['userId'].unique().tolist()\n",
    "print('list userID: ', user_ids[:10])"
   ],
   "metadata": {
    "collapsed": false,
    "ExecuteTime": {
     "end_time": "2023-10-04T08:45:28.859305900Z",
     "start_time": "2023-10-04T08:45:28.811948700Z"
    }
   }
  },
  {
   "cell_type": "code",
   "execution_count": 16,
   "outputs": [
    {
     "name": "stdout",
     "output_type": "stream",
     "text": [
      "10 contoh encoding userID:\n",
      "UserID: A1ER5AYS3FQ9O3 -> Encoded: 0\n",
      "UserID: A2VCGJLKGK2WJJ -> Encoded: 1\n",
      "UserID: A1H72DULSEGDX7 -> Encoded: 2\n",
      "UserID: A1DJMMJ4OQ2712 -> Encoded: 3\n",
      "UserID: A14OJS0VWMOSWO -> Encoded: 4\n",
      "UserID: AUHG8KSHI529U -> Encoded: 5\n",
      "UserID: A1RJD10TTI568L -> Encoded: 6\n",
      "UserID: A2L7N2U5Z316ZE -> Encoded: 7\n",
      "UserID: A2KBHSK5BS35BH -> Encoded: 8\n",
      "UserID: A2WZON0QPX7C9X -> Encoded: 9\n"
     ]
    }
   ],
   "source": [
    "# Melakukan encoding userID\n",
    "user_to_user_encoded = {x: i for i, x in enumerate(user_ids)}\n",
    "\n",
    "# Cetak 10 contoh encoding userID\n",
    "print('10 contoh encoding userID:')\n",
    "for user_id, encoded_id in list(user_to_user_encoded.items())[:10]:\n",
    "    print(f'UserID: {user_id} -> Encoded: {encoded_id}')\n",
    "\n"
   ],
   "metadata": {
    "collapsed": false,
    "ExecuteTime": {
     "end_time": "2023-10-04T08:45:30.472374700Z",
     "start_time": "2023-10-04T08:45:30.440775900Z"
    }
   }
  },
  {
   "cell_type": "code",
   "execution_count": 17,
   "outputs": [
    {
     "name": "stdout",
     "output_type": "stream",
     "text": [
      "10 contoh decoding angka ke userID:\n",
      "Encoded: 0 -> UserID: A1ER5AYS3FQ9O3\n",
      "Encoded: 1 -> UserID: A2VCGJLKGK2WJJ\n",
      "Encoded: 2 -> UserID: A1H72DULSEGDX7\n",
      "Encoded: 3 -> UserID: A1DJMMJ4OQ2712\n",
      "Encoded: 4 -> UserID: A14OJS0VWMOSWO\n",
      "Encoded: 5 -> UserID: AUHG8KSHI529U\n",
      "Encoded: 6 -> UserID: A1RJD10TTI568L\n",
      "Encoded: 7 -> UserID: A2L7N2U5Z316ZE\n",
      "Encoded: 8 -> UserID: A2KBHSK5BS35BH\n",
      "Encoded: 9 -> UserID: A2WZON0QPX7C9X\n"
     ]
    }
   ],
   "source": [
    "# Melakukan proses decoding dari angka ke userID\n",
    "user_encoded_to_user = {i: x for i, x in enumerate(user_ids)}\n",
    "\n",
    "# Cetak 10 contoh decoding angka ke userID\n",
    "print('10 contoh decoding angka ke userID:')\n",
    "for encoded_id, user_id in list(user_encoded_to_user.items())[:10]:\n",
    "    print(f'Encoded: {encoded_id} -> UserID: {user_id}')\n"
   ],
   "metadata": {
    "collapsed": false,
    "ExecuteTime": {
     "end_time": "2023-10-04T08:45:32.450345Z",
     "start_time": "2023-10-04T08:45:32.419062Z"
    }
   }
  },
  {
   "cell_type": "code",
   "execution_count": 18,
   "outputs": [
    {
     "name": "stdout",
     "output_type": "stream",
     "text": [
      "list titleId:  ['Voices from the Farm: Adventures in Community Living', 'Tess and the Highlander', \"Communicating with Orcas - The Whales' Perspective\", \"The Impatient Gardener's Lawn Book\", 'The Complete Illustrated Guide to Chinese Medicine: A Comprehensive System for Health and Fitness', 'Night World: Daughters Of Darkness', 'America at 1750: A Social Portrait', 'Perry Mason in the Case of Too Many Murders', \"The Rabbi's Cat\", \"From Potter's Field\"]\n"
     ]
    }
   ],
   "source": [
    "# Mengubah titleBook menjadi list tanpa nilai yang sama\n",
    "title_ids = filtered_rating['title'].unique().tolist()\n",
    "\n",
    "print('list titleId: ', title_ids[:10])"
   ],
   "metadata": {
    "collapsed": false,
    "ExecuteTime": {
     "end_time": "2023-10-04T08:45:34.086842900Z",
     "start_time": "2023-10-04T08:45:34.036121300Z"
    }
   }
  },
  {
   "cell_type": "code",
   "execution_count": 19,
   "outputs": [
    {
     "name": "stdout",
     "output_type": "stream",
     "text": [
      "10 contoh encoding title:\n",
      "Title: Voices from the Farm: Adventures in Community Living -> Encoded: 0\n",
      "Title: Tess and the Highlander -> Encoded: 1\n",
      "Title: Communicating with Orcas - The Whales' Perspective -> Encoded: 2\n",
      "Title: The Impatient Gardener's Lawn Book -> Encoded: 3\n",
      "Title: The Complete Illustrated Guide to Chinese Medicine: A Comprehensive System for Health and Fitness -> Encoded: 4\n",
      "Title: Night World: Daughters Of Darkness -> Encoded: 5\n",
      "Title: America at 1750: A Social Portrait -> Encoded: 6\n",
      "Title: Perry Mason in the Case of Too Many Murders -> Encoded: 7\n",
      "Title: The Rabbi's Cat -> Encoded: 8\n",
      "Title: From Potter's Field -> Encoded: 9\n"
     ]
    }
   ],
   "source": [
    "# Melakukan encoding userID\n",
    "title_to_title_encode = {x: i for i, x in enumerate(title_ids)}\n",
    "\n",
    "# Cetak 10 contoh encoding userID\n",
    "print('10 contoh encoding title:')\n",
    "for title, encoded_id in list(title_to_title_encode.items())[:10]:\n",
    "    print(f'Title: {title} -> Encoded: {encoded_id}')\n"
   ],
   "metadata": {
    "collapsed": false,
    "ExecuteTime": {
     "end_time": "2023-10-04T08:45:35.703808100Z",
     "start_time": "2023-10-04T08:45:35.672552100Z"
    }
   }
  },
  {
   "cell_type": "code",
   "execution_count": 20,
   "outputs": [
    {
     "name": "stdout",
     "output_type": "stream",
     "text": [
      "10 contoh decoding angka ke title:\n",
      "Encoded: 0 -> UserID: Voices from the Farm: Adventures in Community Living\n",
      "Encoded: 1 -> UserID: Tess and the Highlander\n",
      "Encoded: 2 -> UserID: Communicating with Orcas - The Whales' Perspective\n",
      "Encoded: 3 -> UserID: The Impatient Gardener's Lawn Book\n",
      "Encoded: 4 -> UserID: The Complete Illustrated Guide to Chinese Medicine: A Comprehensive System for Health and Fitness\n",
      "Encoded: 5 -> UserID: Night World: Daughters Of Darkness\n",
      "Encoded: 6 -> UserID: America at 1750: A Social Portrait\n",
      "Encoded: 7 -> UserID: Perry Mason in the Case of Too Many Murders\n",
      "Encoded: 8 -> UserID: The Rabbi's Cat\n",
      "Encoded: 9 -> UserID: From Potter's Field\n"
     ]
    }
   ],
   "source": [
    "# Melakukan proses decoding dari angka ke userID\n",
    "title_encode_to_title = {i: x for i, x in enumerate(title_ids)}\n",
    "\n",
    "# Cetak 10 contoh decoding angka ke userID\n",
    "print('10 contoh decoding angka ke title:')\n",
    "for encoded_id, title in list(title_encode_to_title.items())[:10]:\n",
    "    print(f'Encoded: {encoded_id} -> UserID: {title}')\n"
   ],
   "metadata": {
    "collapsed": false,
    "ExecuteTime": {
     "end_time": "2023-10-04T08:45:37.318212700Z",
     "start_time": "2023-10-04T08:45:37.302611500Z"
    }
   }
  },
  {
   "cell_type": "code",
   "execution_count": 21,
   "outputs": [
    {
     "name": "stderr",
     "output_type": "stream",
     "text": [
      "C:\\Users\\ASUS\\AppData\\Local\\Temp\\ipykernel_24556\\1679004981.py:2: SettingWithCopyWarning: \n",
      "A value is trying to be set on a copy of a slice from a DataFrame.\n",
      "Try using .loc[row_indexer,col_indexer] = value instead\n",
      "\n",
      "See the caveats in the documentation: https://pandas.pydata.org/pandas-docs/stable/user_guide/indexing.html#returning-a-view-versus-a-copy\n",
      "  filtered_rating['user'] = filtered_rating['userId'].map(user_to_user_encoded)\n",
      "C:\\Users\\ASUS\\AppData\\Local\\Temp\\ipykernel_24556\\1679004981.py:5: SettingWithCopyWarning: \n",
      "A value is trying to be set on a copy of a slice from a DataFrame.\n",
      "Try using .loc[row_indexer,col_indexer] = value instead\n",
      "\n",
      "See the caveats in the documentation: https://pandas.pydata.org/pandas-docs/stable/user_guide/indexing.html#returning-a-view-versus-a-copy\n",
      "  filtered_rating['bookId'] = filtered_rating['title'].map(title_to_title_encode)\n"
     ]
    }
   ],
   "source": [
    "# Mapping userID ke dataframe user\n",
    "filtered_rating['user'] = filtered_rating['userId'].map(user_to_user_encoded)\n",
    "\n",
    "# Mapping title ke dataframe bookId\n",
    "filtered_rating['bookId'] = filtered_rating['title'].map(title_to_title_encode)"
   ],
   "metadata": {
    "collapsed": false,
    "ExecuteTime": {
     "end_time": "2023-10-04T08:45:38.945231200Z",
     "start_time": "2023-10-04T08:45:38.851385700Z"
    }
   }
  },
  {
   "cell_type": "code",
   "execution_count": 22,
   "outputs": [
    {
     "name": "stdout",
     "output_type": "stream",
     "text": [
      "4077\n",
      "26991\n",
      "Number of User: 4077, Number of Book: 26991, Min Rating: 1.0, Max Rating: 5.0\n"
     ]
    }
   ],
   "source": [
    "# Mendapatkan jumlah user\n",
    "num_users = len(user_to_user_encoded)\n",
    "print(num_users)\n",
    "\n",
    "# Mendapatkan jumlah books\n",
    "num_book = len(title_encode_to_title)\n",
    "print(num_book)\n",
    "\n",
    "# Nilai minimum rating\n",
    "min_rating = min(filtered_rating['score'])\n",
    "\n",
    "# Nilai maksimal rating\n",
    "max_rating = max(filtered_rating['score'])\n",
    "\n",
    "print('Number of User: {}, Number of Book: {}, Min Rating: {}, Max Rating: {}'.format(\n",
    "    num_users, num_book, min_rating, max_rating\n",
    "))"
   ],
   "metadata": {
    "collapsed": false,
    "ExecuteTime": {
     "end_time": "2023-10-04T08:45:41.157550600Z",
     "start_time": "2023-10-04T08:45:41.110669200Z"
    }
   }
  },
  {
   "cell_type": "code",
   "execution_count": 23,
   "outputs": [
    {
     "data": {
      "text/plain": "                                                     title  \\\n5        Voices from the Farm: Adventures in Community ...   \n17                                 Tess and the Highlander   \n23                                 Tess and the Highlander   \n33                                 Tess and the Highlander   \n96       Communicating with Orcas - The Whales' Perspec...   \n...                                                    ...   \n1549849                                       Calder Pride   \n1549856                                      The Road Back   \n1549869                                        Thin Within   \n1549890                                       Final things   \n1549920                                  The Autograph Man   \n\n                                      authors                     categories  \\\n5                             ['Rupert Fike']  ['Biography & Autobiography']   \n17                         ['May Mcgoldrick']           ['Juvenile Fiction']   \n23                         ['May Mcgoldrick']           ['Juvenile Fiction']   \n33                         ['May Mcgoldrick']           ['Juvenile Fiction']   \n96                         ['Mary J. Getten']               ['Local author']   \n...                                       ...                            ...   \n1549849                      ['Janet Dailey']                    ['Fiction']   \n1549856              ['Erich Maria Remarque']                    ['Fiction']   \n1549869  ['Judy Halliday', 'Arthur Halliday']           ['Health & Fitness']   \n1549890                      ['Jenny Offill']                    ['Fiction']   \n1549920                       ['Zadie Smith']                    ['Fiction']   \n\n         ratingsCount          userId                          profileName  \\\n5                 1.0  A1ER5AYS3FQ9O3                   K. Corn \"reviewer\"   \n17                2.0  A2VCGJLKGK2WJJ                       Rebecca Herman   \n23                2.0  A1H72DULSEGDX7                      hiphopgirl_1000   \n33                2.0  A1DJMMJ4OQ2712                             \"celes1\"   \n96                1.0  A14OJS0VWMOSWO                  Midwest Book Review   \n...               ...             ...                                  ...   \n1549849           1.0  A170ILOIU1PZN7                       Romance junkie   \n1549856           6.0  A28ZOZJU5A30Z0                               Sean K   \n1549869           9.0  A2HM0BZWQRV1EF  Blaine Greenfield \"eclectic reader\"   \n1549890           4.0  A148R759F9JW0A                          othoniaboys   \n1549920          19.0  A3N4CDTH72ZVDS                     Matko Vladanovic   \n\n         score                                            summary  user  \\\n5          5.0  Intense memoir told in brief segments by forme...     0   \n17         5.0  My new favorite book from the Avon True Romanc...     1   \n23         5.0                                    A great romance     2   \n33         2.0                         Not the best in the series     3   \n96         5.0                     Makes for fascinating reading.     4   \n...        ...                                                ...   ...   \n1549849    5.0                                         EXCELLENT!  3684   \n1549856    5.0                 Much harder than surviving the war  2106   \n1549869    5.0  Imagine achieving permanent weight loss withou...  1425   \n1549890    4.0                    The only good one is a dead one   335   \n1549920    4.0                       The quest for the holy Grail   445   \n\n         bookId  \n5             0  \n17            1  \n23            1  \n33            1  \n96            2  \n...         ...  \n1549849   26986  \n1549856   26987  \n1549869   26988  \n1549890   26989  \n1549920   26990  \n\n[211477 rows x 10 columns]",
      "text/html": "<div>\n<style scoped>\n    .dataframe tbody tr th:only-of-type {\n        vertical-align: middle;\n    }\n\n    .dataframe tbody tr th {\n        vertical-align: top;\n    }\n\n    .dataframe thead th {\n        text-align: right;\n    }\n</style>\n<table border=\"1\" class=\"dataframe\">\n  <thead>\n    <tr style=\"text-align: right;\">\n      <th></th>\n      <th>title</th>\n      <th>authors</th>\n      <th>categories</th>\n      <th>ratingsCount</th>\n      <th>userId</th>\n      <th>profileName</th>\n      <th>score</th>\n      <th>summary</th>\n      <th>user</th>\n      <th>bookId</th>\n    </tr>\n  </thead>\n  <tbody>\n    <tr>\n      <th>5</th>\n      <td>Voices from the Farm: Adventures in Community ...</td>\n      <td>['Rupert Fike']</td>\n      <td>['Biography &amp; Autobiography']</td>\n      <td>1.0</td>\n      <td>A1ER5AYS3FQ9O3</td>\n      <td>K. Corn \"reviewer\"</td>\n      <td>5.0</td>\n      <td>Intense memoir told in brief segments by forme...</td>\n      <td>0</td>\n      <td>0</td>\n    </tr>\n    <tr>\n      <th>17</th>\n      <td>Tess and the Highlander</td>\n      <td>['May Mcgoldrick']</td>\n      <td>['Juvenile Fiction']</td>\n      <td>2.0</td>\n      <td>A2VCGJLKGK2WJJ</td>\n      <td>Rebecca Herman</td>\n      <td>5.0</td>\n      <td>My new favorite book from the Avon True Romanc...</td>\n      <td>1</td>\n      <td>1</td>\n    </tr>\n    <tr>\n      <th>23</th>\n      <td>Tess and the Highlander</td>\n      <td>['May Mcgoldrick']</td>\n      <td>['Juvenile Fiction']</td>\n      <td>2.0</td>\n      <td>A1H72DULSEGDX7</td>\n      <td>hiphopgirl_1000</td>\n      <td>5.0</td>\n      <td>A great romance</td>\n      <td>2</td>\n      <td>1</td>\n    </tr>\n    <tr>\n      <th>33</th>\n      <td>Tess and the Highlander</td>\n      <td>['May Mcgoldrick']</td>\n      <td>['Juvenile Fiction']</td>\n      <td>2.0</td>\n      <td>A1DJMMJ4OQ2712</td>\n      <td>\"celes1\"</td>\n      <td>2.0</td>\n      <td>Not the best in the series</td>\n      <td>3</td>\n      <td>1</td>\n    </tr>\n    <tr>\n      <th>96</th>\n      <td>Communicating with Orcas - The Whales' Perspec...</td>\n      <td>['Mary J. Getten']</td>\n      <td>['Local author']</td>\n      <td>1.0</td>\n      <td>A14OJS0VWMOSWO</td>\n      <td>Midwest Book Review</td>\n      <td>5.0</td>\n      <td>Makes for fascinating reading.</td>\n      <td>4</td>\n      <td>2</td>\n    </tr>\n    <tr>\n      <th>...</th>\n      <td>...</td>\n      <td>...</td>\n      <td>...</td>\n      <td>...</td>\n      <td>...</td>\n      <td>...</td>\n      <td>...</td>\n      <td>...</td>\n      <td>...</td>\n      <td>...</td>\n    </tr>\n    <tr>\n      <th>1549849</th>\n      <td>Calder Pride</td>\n      <td>['Janet Dailey']</td>\n      <td>['Fiction']</td>\n      <td>1.0</td>\n      <td>A170ILOIU1PZN7</td>\n      <td>Romance junkie</td>\n      <td>5.0</td>\n      <td>EXCELLENT!</td>\n      <td>3684</td>\n      <td>26986</td>\n    </tr>\n    <tr>\n      <th>1549856</th>\n      <td>The Road Back</td>\n      <td>['Erich Maria Remarque']</td>\n      <td>['Fiction']</td>\n      <td>6.0</td>\n      <td>A28ZOZJU5A30Z0</td>\n      <td>Sean K</td>\n      <td>5.0</td>\n      <td>Much harder than surviving the war</td>\n      <td>2106</td>\n      <td>26987</td>\n    </tr>\n    <tr>\n      <th>1549869</th>\n      <td>Thin Within</td>\n      <td>['Judy Halliday', 'Arthur Halliday']</td>\n      <td>['Health &amp; Fitness']</td>\n      <td>9.0</td>\n      <td>A2HM0BZWQRV1EF</td>\n      <td>Blaine Greenfield \"eclectic reader\"</td>\n      <td>5.0</td>\n      <td>Imagine achieving permanent weight loss withou...</td>\n      <td>1425</td>\n      <td>26988</td>\n    </tr>\n    <tr>\n      <th>1549890</th>\n      <td>Final things</td>\n      <td>['Jenny Offill']</td>\n      <td>['Fiction']</td>\n      <td>4.0</td>\n      <td>A148R759F9JW0A</td>\n      <td>othoniaboys</td>\n      <td>4.0</td>\n      <td>The only good one is a dead one</td>\n      <td>335</td>\n      <td>26989</td>\n    </tr>\n    <tr>\n      <th>1549920</th>\n      <td>The Autograph Man</td>\n      <td>['Zadie Smith']</td>\n      <td>['Fiction']</td>\n      <td>19.0</td>\n      <td>A3N4CDTH72ZVDS</td>\n      <td>Matko Vladanovic</td>\n      <td>4.0</td>\n      <td>The quest for the holy Grail</td>\n      <td>445</td>\n      <td>26990</td>\n    </tr>\n  </tbody>\n</table>\n<p>211477 rows × 10 columns</p>\n</div>"
     },
     "execution_count": 23,
     "metadata": {},
     "output_type": "execute_result"
    }
   ],
   "source": [
    "filtered_rating"
   ],
   "metadata": {
    "collapsed": false,
    "ExecuteTime": {
     "end_time": "2023-10-03T08:16:31.587745200Z",
     "start_time": "2023-10-03T08:16:31.556328300Z"
    }
   }
  },
  {
   "cell_type": "markdown",
   "source": [
    "#### 5.2.5 Shuffle"
   ],
   "metadata": {
    "collapsed": false
   }
  },
  {
   "cell_type": "code",
   "execution_count": 23,
   "outputs": [
    {
     "data": {
      "text/plain": "                                                     title  \\\n808004   A Feast for Crows (A Song of Ice and Fire, Boo...   \n1139640                                 Walter Was Worried   \n1082303                             The Sunne in Splendour   \n848646              A Breath of Snow and Ashes (Outlander)   \n757849                                               Holes   \n...                                                    ...   \n857120                                     OF MICE AND MEN   \n730580                                        A Wanted Man   \n951508                                   David Copperfield   \n1069516                            The Stainless Steel Rat   \n873353   The age of reason: being an investigation of t...   \n\n                          authors  \\\n808004    ['George R. R. Martin']   \n1139640  ['Laura Vaccaro Seeger']   \n1082303     ['Sharon Kay Penman']   \n848646         ['Diana Gabaldon']   \n757849           ['Louis Sachar']   \n...                           ...   \n857120         ['John Steinbeck']   \n730580              ['Lee Child']   \n951508        ['Charles Dickens']   \n1069516        ['Harry Harrison']   \n873353           ['Thomas Paine']   \n\n                                               categories  ratingsCount  \\\n808004                                        ['Fiction']        3116.0   \n1139640                              ['Juvenile Fiction']           6.0   \n1082303                                       ['Fiction']          51.0   \n848646                                        ['Fiction']          81.0   \n757849                               ['Juvenile Fiction']         105.0   \n...                                                   ...           ...   \n857120                                        ['Fiction']         187.0   \n730580                                        ['Fiction']          71.0   \n951508                                        ['Fiction']           6.0   \n1069516  ['DiGriz, James Bolivar (Fictitious character)']          21.0   \n873353                                        ['History']          13.0   \n\n                 userId                                       profileName  \\\n808004    AQP1VPK16SVWM  Wayne Klein \"If at first the idea is not absu...   \n1139640  A1SYLII0808HD6                                M. Allen Greenbaum   \n1082303  A1XC6NAEF7RKZ0                        Laurence R. Bachmann \"LRB\"   \n848646    AN8C7BGR98HLN                           Nash Black \"Troubadour\"   \n757849    AZ216MK9KO1S0                                 purple \"pioneers\"   \n...                 ...                                               ...   \n857120    A43P0V05RM3SR                                      Evelyn Horan   \n730580      AFVQZQ8PW0L                                  Harriet Klausner   \n951508    ATN1SSKTJD8Z8                                         M. Strong   \n1069516   A1ZNGCNKCHW11              Norman Strojny \"retired tech-person\"   \n873353    ANEDXRFDZDL18                                            Serene   \n\n         score                                            summary  user  \\\n808004     3.0  Feast suffers because only half the meal is pr...  3227   \n1139640    5.0                           4 1/2 A Storm of Emotion  1380   \n1082303    3.0  Very interesting; very well-written; implodes ...  2366   \n848646     5.0                                     An Epic Return   665   \n757849     4.0                             He is only responsible  1728   \n...        ...                                                ...   ...   \n857120     5.0                   Am Enduring Classic for All Time   666   \n730580     4.0                               fine western romance    90   \n951508     5.0     Dickens' favorite Dickens... with good reason.   964   \n1069516    4.0                                  Very good reading  1456   \n873353     5.0                                  Thought Provoking  2201   \n\n         bookId  \n808004    12128  \n1139640   18388  \n1082303   17314  \n848646    12793  \n757849    11098  \n...         ...  \n857120    12888  \n730580    10701  \n951508    14671  \n1069516   17052  \n873353    13172  \n\n[211477 rows x 10 columns]",
      "text/html": "<div>\n<style scoped>\n    .dataframe tbody tr th:only-of-type {\n        vertical-align: middle;\n    }\n\n    .dataframe tbody tr th {\n        vertical-align: top;\n    }\n\n    .dataframe thead th {\n        text-align: right;\n    }\n</style>\n<table border=\"1\" class=\"dataframe\">\n  <thead>\n    <tr style=\"text-align: right;\">\n      <th></th>\n      <th>title</th>\n      <th>authors</th>\n      <th>categories</th>\n      <th>ratingsCount</th>\n      <th>userId</th>\n      <th>profileName</th>\n      <th>score</th>\n      <th>summary</th>\n      <th>user</th>\n      <th>bookId</th>\n    </tr>\n  </thead>\n  <tbody>\n    <tr>\n      <th>808004</th>\n      <td>A Feast for Crows (A Song of Ice and Fire, Boo...</td>\n      <td>['George R. R. Martin']</td>\n      <td>['Fiction']</td>\n      <td>3116.0</td>\n      <td>AQP1VPK16SVWM</td>\n      <td>Wayne Klein \"If at first the idea is not absu...</td>\n      <td>3.0</td>\n      <td>Feast suffers because only half the meal is pr...</td>\n      <td>3227</td>\n      <td>12128</td>\n    </tr>\n    <tr>\n      <th>1139640</th>\n      <td>Walter Was Worried</td>\n      <td>['Laura Vaccaro Seeger']</td>\n      <td>['Juvenile Fiction']</td>\n      <td>6.0</td>\n      <td>A1SYLII0808HD6</td>\n      <td>M. Allen Greenbaum</td>\n      <td>5.0</td>\n      <td>4 1/2 A Storm of Emotion</td>\n      <td>1380</td>\n      <td>18388</td>\n    </tr>\n    <tr>\n      <th>1082303</th>\n      <td>The Sunne in Splendour</td>\n      <td>['Sharon Kay Penman']</td>\n      <td>['Fiction']</td>\n      <td>51.0</td>\n      <td>A1XC6NAEF7RKZ0</td>\n      <td>Laurence R. Bachmann \"LRB\"</td>\n      <td>3.0</td>\n      <td>Very interesting; very well-written; implodes ...</td>\n      <td>2366</td>\n      <td>17314</td>\n    </tr>\n    <tr>\n      <th>848646</th>\n      <td>A Breath of Snow and Ashes (Outlander)</td>\n      <td>['Diana Gabaldon']</td>\n      <td>['Fiction']</td>\n      <td>81.0</td>\n      <td>AN8C7BGR98HLN</td>\n      <td>Nash Black \"Troubadour\"</td>\n      <td>5.0</td>\n      <td>An Epic Return</td>\n      <td>665</td>\n      <td>12793</td>\n    </tr>\n    <tr>\n      <th>757849</th>\n      <td>Holes</td>\n      <td>['Louis Sachar']</td>\n      <td>['Juvenile Fiction']</td>\n      <td>105.0</td>\n      <td>AZ216MK9KO1S0</td>\n      <td>purple \"pioneers\"</td>\n      <td>4.0</td>\n      <td>He is only responsible</td>\n      <td>1728</td>\n      <td>11098</td>\n    </tr>\n    <tr>\n      <th>...</th>\n      <td>...</td>\n      <td>...</td>\n      <td>...</td>\n      <td>...</td>\n      <td>...</td>\n      <td>...</td>\n      <td>...</td>\n      <td>...</td>\n      <td>...</td>\n      <td>...</td>\n    </tr>\n    <tr>\n      <th>857120</th>\n      <td>OF MICE AND MEN</td>\n      <td>['John Steinbeck']</td>\n      <td>['Fiction']</td>\n      <td>187.0</td>\n      <td>A43P0V05RM3SR</td>\n      <td>Evelyn Horan</td>\n      <td>5.0</td>\n      <td>Am Enduring Classic for All Time</td>\n      <td>666</td>\n      <td>12888</td>\n    </tr>\n    <tr>\n      <th>730580</th>\n      <td>A Wanted Man</td>\n      <td>['Lee Child']</td>\n      <td>['Fiction']</td>\n      <td>71.0</td>\n      <td>AFVQZQ8PW0L</td>\n      <td>Harriet Klausner</td>\n      <td>4.0</td>\n      <td>fine western romance</td>\n      <td>90</td>\n      <td>10701</td>\n    </tr>\n    <tr>\n      <th>951508</th>\n      <td>David Copperfield</td>\n      <td>['Charles Dickens']</td>\n      <td>['Fiction']</td>\n      <td>6.0</td>\n      <td>ATN1SSKTJD8Z8</td>\n      <td>M. Strong</td>\n      <td>5.0</td>\n      <td>Dickens' favorite Dickens... with good reason.</td>\n      <td>964</td>\n      <td>14671</td>\n    </tr>\n    <tr>\n      <th>1069516</th>\n      <td>The Stainless Steel Rat</td>\n      <td>['Harry Harrison']</td>\n      <td>['DiGriz, James Bolivar (Fictitious character)']</td>\n      <td>21.0</td>\n      <td>A1ZNGCNKCHW11</td>\n      <td>Norman Strojny \"retired tech-person\"</td>\n      <td>4.0</td>\n      <td>Very good reading</td>\n      <td>1456</td>\n      <td>17052</td>\n    </tr>\n    <tr>\n      <th>873353</th>\n      <td>The age of reason: being an investigation of t...</td>\n      <td>['Thomas Paine']</td>\n      <td>['History']</td>\n      <td>13.0</td>\n      <td>ANEDXRFDZDL18</td>\n      <td>Serene</td>\n      <td>5.0</td>\n      <td>Thought Provoking</td>\n      <td>2201</td>\n      <td>13172</td>\n    </tr>\n  </tbody>\n</table>\n<p>211477 rows × 10 columns</p>\n</div>"
     },
     "execution_count": 23,
     "metadata": {},
     "output_type": "execute_result"
    }
   ],
   "source": [
    "# Mengacak dataset\n",
    "filtered_rating = filtered_rating.sample(frac=1, random_state=42)\n",
    "filtered_rating"
   ],
   "metadata": {
    "collapsed": false,
    "ExecuteTime": {
     "end_time": "2023-10-04T08:45:46.538621500Z",
     "start_time": "2023-10-04T08:45:46.444723Z"
    }
   }
  },
  {
   "cell_type": "markdown",
   "source": [
    "#### 5.2.6 Train and Split Data"
   ],
   "metadata": {
    "collapsed": false
   }
  },
  {
   "cell_type": "code",
   "execution_count": 24,
   "outputs": [
    {
     "data": {
      "text/plain": "array([[ 3227, 12128],\n       [ 1380, 18388],\n       [ 2366, 17314],\n       ...,\n       [  964, 14671],\n       [ 1456, 17052],\n       [ 2201, 13172]], dtype=int64)"
     },
     "execution_count": 24,
     "metadata": {},
     "output_type": "execute_result"
    }
   ],
   "source": [
    "# Membuat variabel x untuk mencocokkan data user dan book menjadi satu value\n",
    "x = filtered_rating[['user', 'bookId']].values\n",
    "x"
   ],
   "metadata": {
    "collapsed": false,
    "ExecuteTime": {
     "end_time": "2023-10-04T08:45:51.624878200Z",
     "start_time": "2023-10-04T08:45:51.589491Z"
    }
   }
  },
  {
   "cell_type": "code",
   "execution_count": 25,
   "outputs": [
    {
     "data": {
      "text/plain": "array([0.5 , 1.  , 0.5 , ..., 1.  , 0.75, 1.  ])"
     },
     "execution_count": 25,
     "metadata": {},
     "output_type": "execute_result"
    }
   ],
   "source": [
    "# Membuat variabel y untuk membuat score dari hasil\n",
    "y = filtered_rating['score'].apply(lambda x: (x - min_rating) / (max_rating - min_rating)).values\n",
    "y\n"
   ],
   "metadata": {
    "collapsed": false,
    "ExecuteTime": {
     "end_time": "2023-10-04T08:45:56.826977400Z",
     "start_time": "2023-10-04T08:45:56.780089400Z"
    }
   }
  },
  {
   "cell_type": "code",
   "execution_count": 48,
   "outputs": [
    {
     "name": "stdout",
     "output_type": "stream",
     "text": [
      "[[ 3227 12128]\n",
      " [ 1380 18388]\n",
      " [ 2366 17314]\n",
      " ...\n",
      " [  964 14671]\n",
      " [ 1456 17052]\n",
      " [ 2201 13172]] [0.5  1.   0.5  ... 1.   0.75 1.  ]\n"
     ]
    }
   ],
   "source": [
    "# Membagi menjadi 80% data train dan 20% data validasi\n",
    "train_indices = int(0.6 * filtered_rating.shape[0])\n",
    "x_train, x_val, y_train, y_val = (\n",
    "    x[:train_indices],\n",
    "    x[train_indices:],\n",
    "    y[:train_indices],\n",
    "    y[train_indices:]\n",
    ")\n",
    "\n",
    "print(x, y)"
   ],
   "metadata": {
    "collapsed": false,
    "ExecuteTime": {
     "end_time": "2023-10-04T09:14:33.528930900Z",
     "start_time": "2023-10-04T09:14:33.512821Z"
    }
   }
  },
  {
   "cell_type": "code",
   "execution_count": 49,
   "outputs": [
    {
     "data": {
      "text/plain": "((126886, 2), (84591, 2), (126886,), (84591,))"
     },
     "execution_count": 49,
     "metadata": {},
     "output_type": "execute_result"
    }
   ],
   "source": [
    "x_train.shape, x_val.shape, y_train.shape, y_val.shape"
   ],
   "metadata": {
    "collapsed": false,
    "ExecuteTime": {
     "end_time": "2023-10-04T09:14:37.944142200Z",
     "start_time": "2023-10-04T09:14:37.928496300Z"
    }
   }
  },
  {
   "cell_type": "markdown",
   "source": [
    "## 6. Model Development"
   ],
   "metadata": {
    "collapsed": false
   }
  },
  {
   "cell_type": "markdown",
   "source": [
    "### 6.1 Content Based Filtering"
   ],
   "metadata": {
    "collapsed": false
   }
  },
  {
   "cell_type": "code",
   "execution_count": 33,
   "outputs": [
    {
     "data": {
      "text/plain": "array([[1.        , 0.        , 0.        , ..., 0.        , 0.        ,\n        0.        ],\n       [0.        , 1.        , 0.        , ..., 0.        , 0.        ,\n        0.        ],\n       [0.        , 0.        , 1.        , ..., 0.        , 0.        ,\n        0.        ],\n       ...,\n       [0.        , 0.        , 0.        , ..., 1.        , 0.52979745,\n        1.        ],\n       [0.        , 0.        , 0.        , ..., 0.52979745, 1.        ,\n        0.52979745],\n       [0.        , 0.        , 0.        , ..., 1.        , 0.52979745,\n        1.        ]])"
     },
     "execution_count": 33,
     "metadata": {},
     "output_type": "execute_result"
    }
   ],
   "source": [
    "from sklearn.metrics.pairwise import cosine_similarity\n",
    "\n",
    "# Menghitung cosine similarity pada matrix tf-idf\n",
    "cosine_sim = cosine_similarity(tfidf_sparse_matrix)\n",
    "cosine_sim\n"
   ],
   "metadata": {
    "collapsed": false,
    "ExecuteTime": {
     "end_time": "2023-10-03T08:17:27.051340400Z",
     "start_time": "2023-10-03T08:16:58.429929Z"
    }
   }
  },
  {
   "cell_type": "code",
   "execution_count": 34,
   "outputs": [
    {
     "name": "stdout",
     "output_type": "stream",
     "text": [
      "Shape: (47269, 47269)\n"
     ]
    },
    {
     "data": {
      "text/plain": "title                                               BLACK EVENING  Bloodsong  \\\ntitle                                                                          \nTHE KILLER MINE.                                         1.000000   1.000000   \nDon't All Religions Lead to God? (Tough Questions)       0.000000   0.000000   \nAttack and Defense (Elementary Go, Vol 5)                0.000000   0.000000   \nModern Japanese Swords and Swordsmiths: From 18...       0.000000   0.000000   \nThe Ganymede Club                                        1.000000   1.000000   \nReady? Set? Go!: How Parents of Prodigals Can G...       0.000000   0.000000   \nWhen Kambia Elaine Flew from Neptune                     0.529797   0.529797   \nRuby and Bubbles                                         0.529797   0.529797   \nDark Magic (The Carpathians (Dark) Series, Book 4)       1.000000   1.000000   \nAdvanced FileMaker Pro 5.5 Techniques for Devel...       0.000000   0.000000   \n\ntitle                                               Japanese Design  \\\ntitle                                                                 \nTHE KILLER MINE.                                                0.0   \nDon't All Religions Lead to God? (Tough Questions)              0.0   \nAttack and Defense (Elementary Go, Vol 5)                       0.0   \nModern Japanese Swords and Swordsmiths: From 18...              0.0   \nThe Ganymede Club                                               0.0   \nReady? Set? Go!: How Parents of Prodigals Can G...              0.0   \nWhen Kambia Elaine Flew from Neptune                            0.0   \nRuby and Bubbles                                                0.0   \nDark Magic (The Carpathians (Dark) Series, Book 4)              0.0   \nAdvanced FileMaker Pro 5.5 Techniques for Devel...              0.0   \n\ntitle                                               Indian captive: The story of Mary Jemison  \\\ntitle                                                                                           \nTHE KILLER MINE.                                                                     0.529797   \nDon't All Religions Lead to God? (Tough Questions)                                   0.000000   \nAttack and Defense (Elementary Go, Vol 5)                                            0.000000   \nModern Japanese Swords and Swordsmiths: From 18...                                   0.000000   \nThe Ganymede Club                                                                    0.529797   \nReady? Set? Go!: How Parents of Prodigals Can G...                                   0.000000   \nWhen Kambia Elaine Flew from Neptune                                                 1.000000   \nRuby and Bubbles                                                                     1.000000   \nDark Magic (The Carpathians (Dark) Series, Book 4)                                   0.529797   \nAdvanced FileMaker Pro 5.5 Techniques for Devel...                                   0.000000   \n\ntitle                                               A Certain Slant of Light  \\\ntitle                                                                          \nTHE KILLER MINE.                                                    0.254813   \nDon't All Religions Lead to God? (Tough Questions)                  0.000000   \nAttack and Defense (Elementary Go, Vol 5)                           0.000000   \nModern Japanese Swords and Swordsmiths: From 18...                  0.000000   \nThe Ganymede Club                                                   0.254813   \nReady? Set? Go!: How Parents of Prodigals Can G...                  0.000000   \nWhen Kambia Elaine Flew from Neptune                                0.134999   \nRuby and Bubbles                                                    0.134999   \nDark Magic (The Carpathians (Dark) Series, Book 4)                  0.254813   \nAdvanced FileMaker Pro 5.5 Techniques for Devel...                  0.000000   \n\ntitle                                               The Squandered Computer: Evaluating the Business Alignment of Information Technologies  \\\ntitle                                                                                                                                        \nTHE KILLER MINE.                                                                                  0.0                                        \nDon't All Religions Lead to God? (Tough Questions)                                                0.0                                        \nAttack and Defense (Elementary Go, Vol 5)                                                         0.0                                        \nModern Japanese Swords and Swordsmiths: From 18...                                                0.0                                        \nThe Ganymede Club                                                                                 0.0                                        \nReady? Set? Go!: How Parents of Prodigals Can G...                                                0.0                                        \nWhen Kambia Elaine Flew from Neptune                                                              0.0                                        \nRuby and Bubbles                                                                                  0.0                                        \nDark Magic (The Carpathians (Dark) Series, Book 4)                                                0.0                                        \nAdvanced FileMaker Pro 5.5 Techniques for Devel...                                                1.0                                        \n\ntitle                                               Render Up the Body  \\\ntitle                                                                    \nTHE KILLER MINE.                                              1.000000   \nDon't All Religions Lead to God? (Tough Questions)            0.000000   \nAttack and Defense (Elementary Go, Vol 5)                     0.000000   \nModern Japanese Swords and Swordsmiths: From 18...            0.000000   \nThe Ganymede Club                                             1.000000   \nReady? Set? Go!: How Parents of Prodigals Can G...            0.000000   \nWhen Kambia Elaine Flew from Neptune                          0.529797   \nRuby and Bubbles                                              0.529797   \nDark Magic (The Carpathians (Dark) Series, Book 4)            1.000000   \nAdvanced FileMaker Pro 5.5 Techniques for Devel...            0.000000   \n\ntitle                                               UNDER A NEW SKY  \\\ntitle                                                                 \nTHE KILLER MINE.                                                0.0   \nDon't All Religions Lead to God? (Tough Questions)              0.0   \nAttack and Defense (Elementary Go, Vol 5)                       0.0   \nModern Japanese Swords and Swordsmiths: From 18...              0.0   \nThe Ganymede Club                                               0.0   \nReady? Set? Go!: How Parents of Prodigals Can G...              0.0   \nWhen Kambia Elaine Flew from Neptune                            0.0   \nRuby and Bubbles                                                0.0   \nDark Magic (The Carpathians (Dark) Series, Book 4)              0.0   \nAdvanced FileMaker Pro 5.5 Techniques for Devel...              0.0   \n\ntitle                                               Herb Mixtures & Spicy Blends: Ethnic Flavorings, No-Salt Blends, Marinades/Dressings, Butters/Spreads, Dessert Mixtures, Teas/Mulling Spices  \\\ntitle                                                                                                                                                                                              \nTHE KILLER MINE.                                                                                  0.0                                                                                              \nDon't All Religions Lead to God? (Tough Questions)                                                0.0                                                                                              \nAttack and Defense (Elementary Go, Vol 5)                                                         0.0                                                                                              \nModern Japanese Swords and Swordsmiths: From 18...                                                0.0                                                                                              \nThe Ganymede Club                                                                                 0.0                                                                                              \nReady? Set? Go!: How Parents of Prodigals Can G...                                                0.0                                                                                              \nWhen Kambia Elaine Flew from Neptune                                                              0.0                                                                                              \nRuby and Bubbles                                                                                  0.0                                                                                              \nDark Magic (The Carpathians (Dark) Series, Book 4)                                                0.0                                                                                              \nAdvanced FileMaker Pro 5.5 Techniques for Devel...                                                0.0                                                                                              \n\ntitle                                               The Brain: A Very Short Introduction  \ntitle                                                                                     \nTHE KILLER MINE.                                                                     0.0  \nDon't All Religions Lead to God? (Tough Questions)                                   0.0  \nAttack and Defense (Elementary Go, Vol 5)                                            0.0  \nModern Japanese Swords and Swordsmiths: From 18...                                   0.0  \nThe Ganymede Club                                                                    0.0  \nReady? Set? Go!: How Parents of Prodigals Can G...                                   0.0  \nWhen Kambia Elaine Flew from Neptune                                                 0.0  \nRuby and Bubbles                                                                     0.0  \nDark Magic (The Carpathians (Dark) Series, Book 4)                                   0.0  \nAdvanced FileMaker Pro 5.5 Techniques for Devel...                                   0.0  ",
      "text/html": "<div>\n<style scoped>\n    .dataframe tbody tr th:only-of-type {\n        vertical-align: middle;\n    }\n\n    .dataframe tbody tr th {\n        vertical-align: top;\n    }\n\n    .dataframe thead th {\n        text-align: right;\n    }\n</style>\n<table border=\"1\" class=\"dataframe\">\n  <thead>\n    <tr style=\"text-align: right;\">\n      <th>title</th>\n      <th>BLACK EVENING</th>\n      <th>Bloodsong</th>\n      <th>Japanese Design</th>\n      <th>Indian captive: The story of Mary Jemison</th>\n      <th>A Certain Slant of Light</th>\n      <th>The Squandered Computer: Evaluating the Business Alignment of Information Technologies</th>\n      <th>Render Up the Body</th>\n      <th>UNDER A NEW SKY</th>\n      <th>Herb Mixtures &amp; Spicy Blends: Ethnic Flavorings, No-Salt Blends, Marinades/Dressings, Butters/Spreads, Dessert Mixtures, Teas/Mulling Spices</th>\n      <th>The Brain: A Very Short Introduction</th>\n    </tr>\n    <tr>\n      <th>title</th>\n      <th></th>\n      <th></th>\n      <th></th>\n      <th></th>\n      <th></th>\n      <th></th>\n      <th></th>\n      <th></th>\n      <th></th>\n      <th></th>\n    </tr>\n  </thead>\n  <tbody>\n    <tr>\n      <th>THE KILLER MINE.</th>\n      <td>1.000000</td>\n      <td>1.000000</td>\n      <td>0.0</td>\n      <td>0.529797</td>\n      <td>0.254813</td>\n      <td>0.0</td>\n      <td>1.000000</td>\n      <td>0.0</td>\n      <td>0.0</td>\n      <td>0.0</td>\n    </tr>\n    <tr>\n      <th>Don't All Religions Lead to God? (Tough Questions)</th>\n      <td>0.000000</td>\n      <td>0.000000</td>\n      <td>0.0</td>\n      <td>0.000000</td>\n      <td>0.000000</td>\n      <td>0.0</td>\n      <td>0.000000</td>\n      <td>0.0</td>\n      <td>0.0</td>\n      <td>0.0</td>\n    </tr>\n    <tr>\n      <th>Attack and Defense (Elementary Go, Vol 5)</th>\n      <td>0.000000</td>\n      <td>0.000000</td>\n      <td>0.0</td>\n      <td>0.000000</td>\n      <td>0.000000</td>\n      <td>0.0</td>\n      <td>0.000000</td>\n      <td>0.0</td>\n      <td>0.0</td>\n      <td>0.0</td>\n    </tr>\n    <tr>\n      <th>Modern Japanese Swords and Swordsmiths: From 1868 to the Present</th>\n      <td>0.000000</td>\n      <td>0.000000</td>\n      <td>0.0</td>\n      <td>0.000000</td>\n      <td>0.000000</td>\n      <td>0.0</td>\n      <td>0.000000</td>\n      <td>0.0</td>\n      <td>0.0</td>\n      <td>0.0</td>\n    </tr>\n    <tr>\n      <th>The Ganymede Club</th>\n      <td>1.000000</td>\n      <td>1.000000</td>\n      <td>0.0</td>\n      <td>0.529797</td>\n      <td>0.254813</td>\n      <td>0.0</td>\n      <td>1.000000</td>\n      <td>0.0</td>\n      <td>0.0</td>\n      <td>0.0</td>\n    </tr>\n    <tr>\n      <th>Ready? Set? Go!: How Parents of Prodigals Can Get On With Their Lives</th>\n      <td>0.000000</td>\n      <td>0.000000</td>\n      <td>0.0</td>\n      <td>0.000000</td>\n      <td>0.000000</td>\n      <td>0.0</td>\n      <td>0.000000</td>\n      <td>0.0</td>\n      <td>0.0</td>\n      <td>0.0</td>\n    </tr>\n    <tr>\n      <th>When Kambia Elaine Flew from Neptune</th>\n      <td>0.529797</td>\n      <td>0.529797</td>\n      <td>0.0</td>\n      <td>1.000000</td>\n      <td>0.134999</td>\n      <td>0.0</td>\n      <td>0.529797</td>\n      <td>0.0</td>\n      <td>0.0</td>\n      <td>0.0</td>\n    </tr>\n    <tr>\n      <th>Ruby and Bubbles</th>\n      <td>0.529797</td>\n      <td>0.529797</td>\n      <td>0.0</td>\n      <td>1.000000</td>\n      <td>0.134999</td>\n      <td>0.0</td>\n      <td>0.529797</td>\n      <td>0.0</td>\n      <td>0.0</td>\n      <td>0.0</td>\n    </tr>\n    <tr>\n      <th>Dark Magic (The Carpathians (Dark) Series, Book 4)</th>\n      <td>1.000000</td>\n      <td>1.000000</td>\n      <td>0.0</td>\n      <td>0.529797</td>\n      <td>0.254813</td>\n      <td>0.0</td>\n      <td>1.000000</td>\n      <td>0.0</td>\n      <td>0.0</td>\n      <td>0.0</td>\n    </tr>\n    <tr>\n      <th>Advanced FileMaker Pro 5.5 Techniques for Developers (With CD-ROM)</th>\n      <td>0.000000</td>\n      <td>0.000000</td>\n      <td>0.0</td>\n      <td>0.000000</td>\n      <td>0.000000</td>\n      <td>1.0</td>\n      <td>0.000000</td>\n      <td>0.0</td>\n      <td>0.0</td>\n      <td>0.0</td>\n    </tr>\n  </tbody>\n</table>\n</div>"
     },
     "execution_count": 34,
     "metadata": {},
     "output_type": "execute_result"
    }
   ],
   "source": [
    "# Membuat dataframe dari variabel cosine_sim dengan baris dan kolom berupa title\n",
    "cosine_sim_df = pd.DataFrame(cosine_sim, index=books['title'], columns=books['title'])\n",
    "print('Shape:', cosine_sim_df.shape)\n",
    "\n",
    "# Melihat similarity matrix pada setiap books\n",
    "cosine_sim_df.sample(10, axis=1).sample(10, axis=0)"
   ],
   "metadata": {
    "collapsed": false,
    "ExecuteTime": {
     "end_time": "2023-10-03T08:17:37.677187Z",
     "start_time": "2023-10-03T08:17:31.869858900Z"
    }
   }
  },
  {
   "cell_type": "markdown",
   "source": [
    "### Uji Coba"
   ],
   "metadata": {
    "collapsed": false
   }
  },
  {
   "cell_type": "code",
   "execution_count": 35,
   "outputs": [],
   "source": [
    "def genre_recommendations(title, sim_df, items, k=1):\n",
    "    ix = sim_df.loc[:,title].to_numpy().argpartition(range(-1,-k,-1))\n",
    "    closest = sim_df.columns[ix[-1:-(k+2):-1]]\n",
    "    closest = closest.drop(title, errors='ignore')\n",
    "    return pd.DataFrame(closest).merge(items).head(k)"
   ],
   "metadata": {
    "collapsed": false,
    "ExecuteTime": {
     "end_time": "2023-10-03T08:17:39.922721800Z",
     "start_time": "2023-10-03T08:17:39.907072800Z"
    }
   }
  },
  {
   "cell_type": "code",
   "execution_count": 37,
   "outputs": [
    {
     "data": {
      "text/plain": "                            title                authors  \\\n66839  The dark on the other side  ['Joan Lowery Nixon']   \n\n                 categories  ratingsCount  \n66839  ['Juvenile Fiction']           2.0  ",
      "text/html": "<div>\n<style scoped>\n    .dataframe tbody tr th:only-of-type {\n        vertical-align: middle;\n    }\n\n    .dataframe tbody tr th {\n        vertical-align: top;\n    }\n\n    .dataframe thead th {\n        text-align: right;\n    }\n</style>\n<table border=\"1\" class=\"dataframe\">\n  <thead>\n    <tr style=\"text-align: right;\">\n      <th></th>\n      <th>title</th>\n      <th>authors</th>\n      <th>categories</th>\n      <th>ratingsCount</th>\n    </tr>\n  </thead>\n  <tbody>\n    <tr>\n      <th>66839</th>\n      <td>The dark on the other side</td>\n      <td>['Joan Lowery Nixon']</td>\n      <td>['Juvenile Fiction']</td>\n      <td>2.0</td>\n    </tr>\n  </tbody>\n</table>\n</div>"
     },
     "execution_count": 37,
     "metadata": {},
     "output_type": "execute_result"
    }
   ],
   "source": [
    "\n",
    "books[books.title == 'The dark on the other side']"
   ],
   "metadata": {
    "collapsed": false,
    "ExecuteTime": {
     "end_time": "2023-10-03T08:17:55.402576300Z",
     "start_time": "2023-10-03T08:17:55.355286Z"
    }
   }
  },
  {
   "cell_type": "code",
   "execution_count": 38,
   "outputs": [
    {
     "data": {
      "text/plain": "                                title            categories  \\\n0                        Which Witch?  ['Juvenile Fiction']   \n1                   The alphabet book  ['Juvenile Fiction']   \n2                 The Man in the Moon  ['Juvenile Fiction']   \n3                           REM WORLD  ['Juvenile Fiction']   \n4    Shaoey And Dot: Bug Meets Bundle  ['Juvenile Fiction']   \n5                       Dragonslayers  ['Juvenile Fiction']   \n6                             Wordles  ['Juvenile Fiction']   \n7                 Little Bears Friend  ['Juvenile Fiction']   \n8  The Watsons Go to Birmingham: 1963  ['Juvenile Fiction']   \n9                        Auntie Claus  ['Juvenile Fiction']   \n\n                                          authors  ratingsCount  \n0                                ['Eva Ibbotson']           1.0  \n1                           ['Philip D. Eastman']           4.0  \n2                               ['William Joyce']          17.0  \n3                            ['Rodman Philbrick']           2.0  \n4  ['Mary Beth Chapman', 'Steven Curtis Chapman']           1.0  \n5                               ['Bruce Coville']           3.0  \n6                        ['Amy Krouse Rosenthal']           2.0  \n7                      ['Else Holmelund Minarik']           5.0  \n8                     ['Christopher Paul Curtis']           7.0  \n9                             ['Elise Primavera']           8.0  ",
      "text/html": "<div>\n<style scoped>\n    .dataframe tbody tr th:only-of-type {\n        vertical-align: middle;\n    }\n\n    .dataframe tbody tr th {\n        vertical-align: top;\n    }\n\n    .dataframe thead th {\n        text-align: right;\n    }\n</style>\n<table border=\"1\" class=\"dataframe\">\n  <thead>\n    <tr style=\"text-align: right;\">\n      <th></th>\n      <th>title</th>\n      <th>categories</th>\n      <th>authors</th>\n      <th>ratingsCount</th>\n    </tr>\n  </thead>\n  <tbody>\n    <tr>\n      <th>0</th>\n      <td>Which Witch?</td>\n      <td>['Juvenile Fiction']</td>\n      <td>['Eva Ibbotson']</td>\n      <td>1.0</td>\n    </tr>\n    <tr>\n      <th>1</th>\n      <td>The alphabet book</td>\n      <td>['Juvenile Fiction']</td>\n      <td>['Philip D. Eastman']</td>\n      <td>4.0</td>\n    </tr>\n    <tr>\n      <th>2</th>\n      <td>The Man in the Moon</td>\n      <td>['Juvenile Fiction']</td>\n      <td>['William Joyce']</td>\n      <td>17.0</td>\n    </tr>\n    <tr>\n      <th>3</th>\n      <td>REM WORLD</td>\n      <td>['Juvenile Fiction']</td>\n      <td>['Rodman Philbrick']</td>\n      <td>2.0</td>\n    </tr>\n    <tr>\n      <th>4</th>\n      <td>Shaoey And Dot: Bug Meets Bundle</td>\n      <td>['Juvenile Fiction']</td>\n      <td>['Mary Beth Chapman', 'Steven Curtis Chapman']</td>\n      <td>1.0</td>\n    </tr>\n    <tr>\n      <th>5</th>\n      <td>Dragonslayers</td>\n      <td>['Juvenile Fiction']</td>\n      <td>['Bruce Coville']</td>\n      <td>3.0</td>\n    </tr>\n    <tr>\n      <th>6</th>\n      <td>Wordles</td>\n      <td>['Juvenile Fiction']</td>\n      <td>['Amy Krouse Rosenthal']</td>\n      <td>2.0</td>\n    </tr>\n    <tr>\n      <th>7</th>\n      <td>Little Bears Friend</td>\n      <td>['Juvenile Fiction']</td>\n      <td>['Else Holmelund Minarik']</td>\n      <td>5.0</td>\n    </tr>\n    <tr>\n      <th>8</th>\n      <td>The Watsons Go to Birmingham: 1963</td>\n      <td>['Juvenile Fiction']</td>\n      <td>['Christopher Paul Curtis']</td>\n      <td>7.0</td>\n    </tr>\n    <tr>\n      <th>9</th>\n      <td>Auntie Claus</td>\n      <td>['Juvenile Fiction']</td>\n      <td>['Elise Primavera']</td>\n      <td>8.0</td>\n    </tr>\n  </tbody>\n</table>\n</div>"
     },
     "execution_count": 38,
     "metadata": {},
     "output_type": "execute_result"
    }
   ],
   "source": [
    "genre_recommendations('The dark on the other side', cosine_sim_df, books[['title', 'categories', 'authors', 'ratingsCount']],10)"
   ],
   "metadata": {
    "collapsed": false,
    "ExecuteTime": {
     "end_time": "2023-10-03T08:18:00.843692800Z",
     "start_time": "2023-10-03T08:17:59.991536900Z"
    }
   }
  },
  {
   "cell_type": "code",
   "execution_count": 39,
   "outputs": [
    {
     "data": {
      "text/plain": "            title               authors            categories  ratingsCount\n29057  The Hobbit  ['J. R. R. Tolkien']  ['Juvenile Fiction']        2580.0",
      "text/html": "<div>\n<style scoped>\n    .dataframe tbody tr th:only-of-type {\n        vertical-align: middle;\n    }\n\n    .dataframe tbody tr th {\n        vertical-align: top;\n    }\n\n    .dataframe thead th {\n        text-align: right;\n    }\n</style>\n<table border=\"1\" class=\"dataframe\">\n  <thead>\n    <tr style=\"text-align: right;\">\n      <th></th>\n      <th>title</th>\n      <th>authors</th>\n      <th>categories</th>\n      <th>ratingsCount</th>\n    </tr>\n  </thead>\n  <tbody>\n    <tr>\n      <th>29057</th>\n      <td>The Hobbit</td>\n      <td>['J. R. R. Tolkien']</td>\n      <td>['Juvenile Fiction']</td>\n      <td>2580.0</td>\n    </tr>\n  </tbody>\n</table>\n</div>"
     },
     "execution_count": 39,
     "metadata": {},
     "output_type": "execute_result"
    }
   ],
   "source": [
    "books[books.title == 'The Hobbit']"
   ],
   "metadata": {
    "collapsed": false,
    "ExecuteTime": {
     "end_time": "2023-10-03T08:18:14.509202600Z",
     "start_time": "2023-10-03T08:18:14.446232600Z"
    }
   }
  },
  {
   "cell_type": "code",
   "execution_count": 40,
   "outputs": [
    {
     "data": {
      "text/plain": "                                title            categories  ratingsCount  \\\n0                        Which Witch?  ['Juvenile Fiction']           1.0   \n1                   The alphabet book  ['Juvenile Fiction']           4.0   \n2                 The Man in the Moon  ['Juvenile Fiction']          17.0   \n3                           REM WORLD  ['Juvenile Fiction']           2.0   \n4    Shaoey And Dot: Bug Meets Bundle  ['Juvenile Fiction']           1.0   \n5                       Dragonslayers  ['Juvenile Fiction']           3.0   \n6                             Wordles  ['Juvenile Fiction']           2.0   \n7                 Little Bears Friend  ['Juvenile Fiction']           5.0   \n8  The Watsons Go to Birmingham: 1963  ['Juvenile Fiction']           7.0   \n9                        Auntie Claus  ['Juvenile Fiction']           8.0   \n\n                                          authors  \n0                                ['Eva Ibbotson']  \n1                           ['Philip D. Eastman']  \n2                               ['William Joyce']  \n3                            ['Rodman Philbrick']  \n4  ['Mary Beth Chapman', 'Steven Curtis Chapman']  \n5                               ['Bruce Coville']  \n6                        ['Amy Krouse Rosenthal']  \n7                      ['Else Holmelund Minarik']  \n8                     ['Christopher Paul Curtis']  \n9                             ['Elise Primavera']  ",
      "text/html": "<div>\n<style scoped>\n    .dataframe tbody tr th:only-of-type {\n        vertical-align: middle;\n    }\n\n    .dataframe tbody tr th {\n        vertical-align: top;\n    }\n\n    .dataframe thead th {\n        text-align: right;\n    }\n</style>\n<table border=\"1\" class=\"dataframe\">\n  <thead>\n    <tr style=\"text-align: right;\">\n      <th></th>\n      <th>title</th>\n      <th>categories</th>\n      <th>ratingsCount</th>\n      <th>authors</th>\n    </tr>\n  </thead>\n  <tbody>\n    <tr>\n      <th>0</th>\n      <td>Which Witch?</td>\n      <td>['Juvenile Fiction']</td>\n      <td>1.0</td>\n      <td>['Eva Ibbotson']</td>\n    </tr>\n    <tr>\n      <th>1</th>\n      <td>The alphabet book</td>\n      <td>['Juvenile Fiction']</td>\n      <td>4.0</td>\n      <td>['Philip D. Eastman']</td>\n    </tr>\n    <tr>\n      <th>2</th>\n      <td>The Man in the Moon</td>\n      <td>['Juvenile Fiction']</td>\n      <td>17.0</td>\n      <td>['William Joyce']</td>\n    </tr>\n    <tr>\n      <th>3</th>\n      <td>REM WORLD</td>\n      <td>['Juvenile Fiction']</td>\n      <td>2.0</td>\n      <td>['Rodman Philbrick']</td>\n    </tr>\n    <tr>\n      <th>4</th>\n      <td>Shaoey And Dot: Bug Meets Bundle</td>\n      <td>['Juvenile Fiction']</td>\n      <td>1.0</td>\n      <td>['Mary Beth Chapman', 'Steven Curtis Chapman']</td>\n    </tr>\n    <tr>\n      <th>5</th>\n      <td>Dragonslayers</td>\n      <td>['Juvenile Fiction']</td>\n      <td>3.0</td>\n      <td>['Bruce Coville']</td>\n    </tr>\n    <tr>\n      <th>6</th>\n      <td>Wordles</td>\n      <td>['Juvenile Fiction']</td>\n      <td>2.0</td>\n      <td>['Amy Krouse Rosenthal']</td>\n    </tr>\n    <tr>\n      <th>7</th>\n      <td>Little Bears Friend</td>\n      <td>['Juvenile Fiction']</td>\n      <td>5.0</td>\n      <td>['Else Holmelund Minarik']</td>\n    </tr>\n    <tr>\n      <th>8</th>\n      <td>The Watsons Go to Birmingham: 1963</td>\n      <td>['Juvenile Fiction']</td>\n      <td>7.0</td>\n      <td>['Christopher Paul Curtis']</td>\n    </tr>\n    <tr>\n      <th>9</th>\n      <td>Auntie Claus</td>\n      <td>['Juvenile Fiction']</td>\n      <td>8.0</td>\n      <td>['Elise Primavera']</td>\n    </tr>\n  </tbody>\n</table>\n</div>"
     },
     "execution_count": 40,
     "metadata": {},
     "output_type": "execute_result"
    }
   ],
   "source": [
    "genre_recommendations('The Hobbit', cosine_sim_df, books[['title', 'categories', 'ratingsCount', 'authors']],10)"
   ],
   "metadata": {
    "collapsed": false,
    "ExecuteTime": {
     "end_time": "2023-10-03T08:18:20.390354200Z",
     "start_time": "2023-10-03T08:18:19.529725900Z"
    }
   }
  },
  {
   "cell_type": "markdown",
   "source": [
    "### 6.2 Collaborative Filtering"
   ],
   "metadata": {
    "collapsed": false
   }
  },
  {
   "cell_type": "code",
   "execution_count": 54,
   "outputs": [],
   "source": [
    "\n",
    "from keras.regularizers import l1, l2\n",
    "\n",
    "class ImprovedRecommenderNet(tf.keras.Model):\n",
    "    def __init__(self, num_users, num_book, embedding_size, dropout_rate, l1_strength, l2_strength, **kwargs):\n",
    "        super(ImprovedRecommenderNet, self).__init__(**kwargs)\n",
    "        self.num_users = num_users\n",
    "        self.num_book = num_book\n",
    "        self.embedding_size = embedding_size\n",
    "        self.dropout_rate = dropout_rate\n",
    "        self.l1_strength = l1_strength\n",
    "        self.l2_strength = l2_strength\n",
    "\n",
    "        self.user_embedding = layers.Embedding(\n",
    "            num_users,\n",
    "            embedding_size,\n",
    "            embeddings_initializer='he_normal',\n",
    "            embeddings_regularizer=l1(l1_strength)  # L1 regularization\n",
    "        )\n",
    "        self.user_dropout = Dropout(dropout_rate)\n",
    "\n",
    "        self.resto_embedding = layers.Embedding(\n",
    "            num_book,\n",
    "            embedding_size,\n",
    "            embeddings_initializer='he_normal',\n",
    "            embeddings_regularizer=l2(l2_strength)  # L2 regularization\n",
    "        )\n",
    "        self.resto_dropout = Dropout(dropout_rate)\n",
    "\n",
    "        self.user_bias = layers.Embedding(num_users, 1)\n",
    "        self.resto_bias = layers.Embedding(num_book, 1)\n",
    "\n",
    "    def call(self, inputs):\n",
    "        user_vector = self.user_embedding(inputs[:, 0])\n",
    "        user_vector = self.user_dropout(user_vector)\n",
    "        user_bias = self.user_bias(inputs[:, 0])\n",
    "\n",
    "        resto_vector = self.resto_embedding(inputs[:, 1])\n",
    "        resto_vector = self.resto_dropout(resto_vector)\n",
    "        resto_bias = self.resto_bias(inputs[:, 1])\n",
    "\n",
    "        dot_user_resto = tf.tensordot(user_vector, resto_vector, 2)\n",
    "        x = dot_user_resto + user_bias + resto_bias\n",
    "\n",
    "        return tf.nn.sigmoid(x)\n"
   ],
   "metadata": {
    "collapsed": false,
    "ExecuteTime": {
     "end_time": "2023-10-04T09:18:31.907247800Z",
     "start_time": "2023-10-04T09:18:31.891610700Z"
    }
   }
  },
  {
   "cell_type": "code",
   "execution_count": 55,
   "outputs": [],
   "source": [
    "# inisialisasi model\n",
    "EMBEDDING_SIZE = 16\n",
    "model = ImprovedRecommenderNet(\n",
    "    num_users, num_book, EMBEDDING_SIZE, dropout_rate=0.2, l1_strength=0.001, l2_strength=0.001\n",
    ")\n",
    "\n",
    "# model compile\n",
    "model.compile(\n",
    "    loss = tf.keras.losses.BinaryCrossentropy(),\n",
    "    optimizer = keras.optimizers.Adam(learning_rate=0.001),\n",
    "    metrics=[tf.keras.metrics.RootMeanSquaredError()]\n",
    ")"
   ],
   "metadata": {
    "collapsed": false,
    "ExecuteTime": {
     "end_time": "2023-10-04T09:18:34.482946600Z",
     "start_time": "2023-10-04T09:18:34.436063600Z"
    }
   }
  },
  {
   "cell_type": "code",
   "execution_count": 56,
   "outputs": [
    {
     "name": "stdout",
     "output_type": "stream",
     "text": [
      "Epoch 1/10\n",
      "496/496 [==============================] - 6s 10ms/step - loss: 0.6930 - root_mean_squared_error: 0.3518 - val_loss: 0.5900 - val_root_mean_squared_error: 0.2816\n",
      "Epoch 2/10\n",
      "496/496 [==============================] - 5s 9ms/step - loss: 0.5673 - root_mean_squared_error: 0.2682 - val_loss: 0.5624 - val_root_mean_squared_error: 0.2647\n",
      "Epoch 3/10\n",
      "496/496 [==============================] - 5s 9ms/step - loss: 0.5462 - root_mean_squared_error: 0.2571 - val_loss: 0.5496 - val_root_mean_squared_error: 0.2557\n",
      "Epoch 4/10\n",
      "496/496 [==============================] - 5s 9ms/step - loss: 0.5286 - root_mean_squared_error: 0.2481 - val_loss: 0.5307 - val_root_mean_squared_error: 0.2512\n",
      "Epoch 5/10\n",
      "496/496 [==============================] - 4s 9ms/step - loss: 0.5157 - root_mean_squared_error: 0.2424 - val_loss: 0.5191 - val_root_mean_squared_error: 0.2454\n",
      "Epoch 6/10\n",
      "496/496 [==============================] - 5s 9ms/step - loss: 0.5003 - root_mean_squared_error: 0.2346 - val_loss: 0.5074 - val_root_mean_squared_error: 0.2407\n",
      "Epoch 7/10\n",
      "496/496 [==============================] - 5s 9ms/step - loss: 0.4905 - root_mean_squared_error: 0.2300 - val_loss: 0.4988 - val_root_mean_squared_error: 0.2366\n",
      "Epoch 8/10\n",
      "496/496 [==============================] - 5s 9ms/step - loss: 0.4816 - root_mean_squared_error: 0.2256 - val_loss: 0.4900 - val_root_mean_squared_error: 0.2335\n",
      "Epoch 9/10\n",
      "496/496 [==============================] - 5s 10ms/step - loss: 0.4726 - root_mean_squared_error: 0.2210 - val_loss: 0.4829 - val_root_mean_squared_error: 0.2304\n",
      "Epoch 10/10\n",
      "496/496 [==============================] - 5s 10ms/step - loss: 0.4650 - root_mean_squared_error: 0.2172 - val_loss: 0.4767 - val_root_mean_squared_error: 0.2278\n"
     ]
    }
   ],
   "source": [
    "# Memulai training\n",
    "history = model.fit(\n",
    "    x=x_train,\n",
    "    y=y_train,\n",
    "    batch_size=256,\n",
    "    epochs=10,\n",
    "    validation_data=(x_val, y_val),\n",
    ")"
   ],
   "metadata": {
    "collapsed": false,
    "ExecuteTime": {
     "end_time": "2023-10-04T09:19:29.210365200Z",
     "start_time": "2023-10-04T09:18:41.280943800Z"
    }
   }
  },
  {
   "cell_type": "markdown",
   "source": [
    "#### Uji Coba"
   ],
   "metadata": {
    "collapsed": false
   }
  },
  {
   "cell_type": "code",
   "execution_count": 47,
   "outputs": [],
   "source": [
    "df_book = books\n",
    "df = filtered_rating"
   ],
   "metadata": {
    "collapsed": false,
    "ExecuteTime": {
     "end_time": "2023-10-03T08:23:10.381133200Z",
     "start_time": "2023-10-03T08:23:10.332650600Z"
    }
   }
  },
  {
   "cell_type": "code",
   "execution_count": 49,
   "outputs": [
    {
     "name": "stdout",
     "output_type": "stream",
     "text": [
      "A1NC9AGZOBI0M1\n",
      "1134\n"
     ]
    }
   ],
   "source": [
    "# Top rekomendasi buku untuk random user\n",
    "user_id = df.userId.sample(10).iloc[0]\n",
    "print(user_id)\n",
    "books_read_by_user = df[df.userId == user_id]\n",
    "books_not_read = df_book[~df_book['title'].isin(books_read_by_user.title.values)]['title']\n",
    "books_not_read = list(\n",
    "    set(books_not_read).intersection(set(title_to_title_encode.keys()))\n",
    ")\n",
    "\n",
    "books_not_read = [[title_to_title_encode.get(x)] for x in books_not_read]\n",
    "\n",
    "user_encoder = user_to_user_encoded.get(user_id)\n",
    "print(user_encoder)\n",
    "\n",
    "user_book_array = np.hstack(\n",
    "    ([[user_encoder]] * len(books_not_read), books_not_read)\n",
    ")\n"
   ],
   "metadata": {
    "collapsed": false,
    "ExecuteTime": {
     "end_time": "2023-10-03T08:23:23.688317100Z",
     "start_time": "2023-10-03T08:23:23.372258100Z"
    }
   }
  },
  {
   "cell_type": "code",
   "execution_count": 50,
   "outputs": [
    {
     "name": "stdout",
     "output_type": "stream",
     "text": [
      "837/837 [==============================] - 2s 2ms/step\n"
     ]
    }
   ],
   "source": [
    "predictions = model.predict(user_book_array).flatten()\n"
   ],
   "metadata": {
    "collapsed": false,
    "ExecuteTime": {
     "end_time": "2023-10-03T08:23:28.130995100Z",
     "start_time": "2023-10-03T08:23:26.119995300Z"
    }
   }
  },
  {
   "cell_type": "code",
   "execution_count": 53,
   "outputs": [
    {
     "name": "stdout",
     "output_type": "stream",
     "text": [
      "[ 4064 22554 26083  8780  4785 17976 22216   685  3320  8890  1037 18910\n",
      "  2330  9029  7800 23052  4799 22795 23822 24768]\n",
      "Showing recommendations for user: A1NC9AGZOBI0M1\n",
      "====================================\n",
      "Books with high ratings from user\n",
      "--------------------------------\n",
      "The Long Dark Tea-Time of the Soul : ['Fiction']\n",
      "The Importance of Being Earnest and Other Plays : ['Drama']\n",
      "Lion, the Witch, and the Wardrobe : ['Fiction']\n",
      "Ripley's Game : ['Fiction']\n",
      "The grapes of wrath, (The living library) : ['California']\n",
      "George Orwell 1984 : ['Fiction']\n",
      "Severed Wasp: A Novel : ['Fiction']\n",
      "The Importance of Being Earnest : ['Fiction']\n",
      "The hitchhiker's guide to the galaxy : ['Science']\n",
      "Tale of Despereaux : ['Juvenile Fiction']\n",
      "--------------------------------\n",
      "Top 20 Books recommendations\n",
      "--------------------------------\n",
      "Jane Eyre (New Windmill) : ['Charity-schools']\n",
      "When We Were Very Young : [\"Children's poetry\"]\n",
      "Pride and Prejudice : ['Fiction']\n",
      "The Hobbit : ['Juvenile Fiction']\n",
      "The Lord of the Rings - Boxed Set : ['Young Adult Fiction']\n",
      "Leaves of grass : ['Poetry']\n",
      "Harry Potter and The Sorcerer's Stone : ['Juvenile Fiction']\n",
      "THE RISE AND FALL ON THE THIRD REICH : ['History']\n",
      "The defence of Duffer's Drift : ['Guerrilla warfare']\n",
      "The Rise and Fall of the Third Reich : ['History']\n",
      "Narrative of the Life of Frederick Douglass, An American Slave. Written by Himself : ['Biography & Autobiography']\n",
      "In the Heart of the Sea : ['History']\n",
      "Gone with the Wind : ['Fiction']\n",
      "Animal Farm 50TH Anniversary Edition : ['Fiction']\n",
      "Narrative of the Life of Frederick Douglass : ['Biography & Autobiography']\n",
      "The Hobbit There and Back Again : ['Adventure stories']\n",
      "The Complete Calvin and Hobbes : ['Comics & Graphic Novels']\n",
      "To Kill a Mocking Bird : ['Drama']\n",
      "No Such Thing As A Secret: A Brandy Alexander Mystery : ['Fiction']\n",
      "A Christmas Carol (Enriched Classics (Pocket)) : ['Fiction']\n"
     ]
    }
   ],
   "source": [
    "top_ratings_indices = predictions.argsort()[-20:][::-1]\n",
    "\n",
    "print(top_ratings_indices)\n",
    "recommended_book_ids = [\n",
    "    title_encode_to_title.get(books_not_read[x][0]) for x in top_ratings_indices\n",
    "]\n",
    "\n",
    "print(\"Showing recommendations for user: {}\".format(user_id))\n",
    "print(\"====\" * 9)\n",
    "print(\"Books with high ratings from user\")\n",
    "print(\"----\" * 8)\n",
    "\n",
    "top_books_user = (\n",
    "    books_read_by_user.sort_values(\n",
    "        by='score',\n",
    "        ascending=False)\n",
    "    .head(10)\n",
    "    .title.values\n",
    ")\n",
    "\n",
    "book_df_rows = df_book[df_book[\"title\"].isin(top_books_user)]\n",
    "for row in book_df_rows.itertuples():\n",
    "    print(row.title, \":\", row.categories)\n",
    "\n",
    "print(\"----\" * 8)\n",
    "print(\"Top 20 Books recommendations\")\n",
    "print(\"----\" * 8)\n",
    "\n",
    "recommended_books = df_book[df_book[\"title\"].isin(recommended_book_ids)]\n",
    "for row in recommended_books.itertuples():\n",
    "    print(row.title, \":\", row.categories)"
   ],
   "metadata": {
    "collapsed": false,
    "ExecuteTime": {
     "end_time": "2023-10-03T08:23:49.896111200Z",
     "start_time": "2023-10-03T08:23:49.832683300Z"
    }
   }
  },
  {
   "cell_type": "markdown",
   "source": [
    "## 7. Evaluasi Model"
   ],
   "metadata": {
    "collapsed": false
   }
  },
  {
   "cell_type": "markdown",
   "source": [
    "### 7.1 Content Based Filtering"
   ],
   "metadata": {
    "collapsed": false
   }
  },
  {
   "cell_type": "code",
   "execution_count": 54,
   "outputs": [],
   "source": [
    "def precision_at_k(category_true, df_prediksi, k=5):\n",
    "    count = 0\n",
    "    for i in df_prediksi['categories'].to_list():\n",
    "        if (i == category_true):\n",
    "            count += 1\n",
    "    precision = (count / k) * 100\n",
    "    return precision"
   ],
   "metadata": {
    "collapsed": false,
    "ExecuteTime": {
     "end_time": "2023-10-03T08:24:23.977643600Z",
     "start_time": "2023-10-03T08:24:23.961968600Z"
    }
   }
  },
  {
   "cell_type": "code",
   "execution_count": 60,
   "outputs": [],
   "source": [
    "import statistics\n",
    "\n",
    "\n",
    "def pak_mean(sampel = [], sim_df = None, df = None):\n",
    "    p_list = []\n",
    "    for i in sampel:\n",
    "        rec = genre_recommendations(i, sim_df, df, 5)\n",
    "        find = df[df.title == i].categories.to_list()[0]\n",
    "        p_list.append(precision_at_k(find, rec, 5))\n",
    "    return {\n",
    "        'P@k %': p_list,\n",
    "        'mean': statistics.mean(p_list)\n",
    "    }"
   ],
   "metadata": {
    "collapsed": false,
    "ExecuteTime": {
     "end_time": "2023-10-03T08:24:45.363263800Z",
     "start_time": "2023-10-03T08:24:45.347622100Z"
    }
   }
  },
  {
   "cell_type": "code",
   "execution_count": 56,
   "outputs": [
    {
     "data": {
      "text/plain": "                                                    title  \\\n116722       Adopted By An Owl (Hazel Ridge Farm Stories)   \n32419               NAPOLEON AND THE AWAKENING OF EUROPE.   \n104252  Priestess of the White: Age of the Five Gods T...   \n128952  Trust: A Sociological Theory (Cambridge Cultur...   \n80839                      Pakistan: The Eye of the Storm   \n55233   CMM in Practice: Processes for Executing Softw...   \n6242                                Weep no more, my lady   \n57689   Bear Vs. Man: Recent Attacks and How to Avoid ...   \n34399               The Batterer: A Psychological Profile   \n43645                             His Lordship's Mistress   \n\n                                    authors               categories  \\\n116722   ['Robbyn Smith van Frankenhuyzen']  ['Juvenile Nonfiction']   \n32419   ['Felix Maurice Hippisley Markham']             ['Emperors']   \n104252                    ['Trudi Canavan']              ['Fiction']   \n128952                   ['Piotr Sztompka']       ['Social Science']   \n80839                ['Owen Bennett Jones']              ['History']   \n55233                     ['Pankaj Jalote']            ['Computers']   \n6242                 ['Mary Higgins Clark']              ['Fiction']   \n57689                     ['Brad Garfield']               ['Nature']   \n34399     ['Donald Dutton', 'Susan Golant']           ['Psychology']   \n43645                         ['Joan Wolf']              ['Fiction']   \n\n        ratingsCount  \n116722           2.0  \n32419            2.0  \n104252          11.0  \n128952           1.0  \n80839            3.0  \n55233            3.0  \n6242             3.0  \n57689            1.0  \n34399            1.0  \n43645            1.0  ",
      "text/html": "<div>\n<style scoped>\n    .dataframe tbody tr th:only-of-type {\n        vertical-align: middle;\n    }\n\n    .dataframe tbody tr th {\n        vertical-align: top;\n    }\n\n    .dataframe thead th {\n        text-align: right;\n    }\n</style>\n<table border=\"1\" class=\"dataframe\">\n  <thead>\n    <tr style=\"text-align: right;\">\n      <th></th>\n      <th>title</th>\n      <th>authors</th>\n      <th>categories</th>\n      <th>ratingsCount</th>\n    </tr>\n  </thead>\n  <tbody>\n    <tr>\n      <th>116722</th>\n      <td>Adopted By An Owl (Hazel Ridge Farm Stories)</td>\n      <td>['Robbyn Smith van Frankenhuyzen']</td>\n      <td>['Juvenile Nonfiction']</td>\n      <td>2.0</td>\n    </tr>\n    <tr>\n      <th>32419</th>\n      <td>NAPOLEON AND THE AWAKENING OF EUROPE.</td>\n      <td>['Felix Maurice Hippisley Markham']</td>\n      <td>['Emperors']</td>\n      <td>2.0</td>\n    </tr>\n    <tr>\n      <th>104252</th>\n      <td>Priestess of the White: Age of the Five Gods T...</td>\n      <td>['Trudi Canavan']</td>\n      <td>['Fiction']</td>\n      <td>11.0</td>\n    </tr>\n    <tr>\n      <th>128952</th>\n      <td>Trust: A Sociological Theory (Cambridge Cultur...</td>\n      <td>['Piotr Sztompka']</td>\n      <td>['Social Science']</td>\n      <td>1.0</td>\n    </tr>\n    <tr>\n      <th>80839</th>\n      <td>Pakistan: The Eye of the Storm</td>\n      <td>['Owen Bennett Jones']</td>\n      <td>['History']</td>\n      <td>3.0</td>\n    </tr>\n    <tr>\n      <th>55233</th>\n      <td>CMM in Practice: Processes for Executing Softw...</td>\n      <td>['Pankaj Jalote']</td>\n      <td>['Computers']</td>\n      <td>3.0</td>\n    </tr>\n    <tr>\n      <th>6242</th>\n      <td>Weep no more, my lady</td>\n      <td>['Mary Higgins Clark']</td>\n      <td>['Fiction']</td>\n      <td>3.0</td>\n    </tr>\n    <tr>\n      <th>57689</th>\n      <td>Bear Vs. Man: Recent Attacks and How to Avoid ...</td>\n      <td>['Brad Garfield']</td>\n      <td>['Nature']</td>\n      <td>1.0</td>\n    </tr>\n    <tr>\n      <th>34399</th>\n      <td>The Batterer: A Psychological Profile</td>\n      <td>['Donald Dutton', 'Susan Golant']</td>\n      <td>['Psychology']</td>\n      <td>1.0</td>\n    </tr>\n    <tr>\n      <th>43645</th>\n      <td>His Lordship's Mistress</td>\n      <td>['Joan Wolf']</td>\n      <td>['Fiction']</td>\n      <td>1.0</td>\n    </tr>\n  </tbody>\n</table>\n</div>"
     },
     "execution_count": 56,
     "metadata": {},
     "output_type": "execute_result"
    }
   ],
   "source": [
    "\n",
    "sample_evaluation = books.sample(10)\n",
    "sample_evaluation"
   ],
   "metadata": {
    "collapsed": false,
    "ExecuteTime": {
     "end_time": "2023-10-03T08:24:27.717392400Z",
     "start_time": "2023-10-03T08:24:27.622754700Z"
    }
   }
  },
  {
   "cell_type": "code",
   "execution_count": 61,
   "outputs": [
    {
     "data": {
      "text/plain": "   Nilai Prediction@k %\n0                 100.0\n1                  60.0\n2                 100.0\n3                 100.0\n4                 100.0\n5                 100.0\n6                 100.0\n7                 100.0\n8                 100.0\n9                 100.0",
      "text/html": "<div>\n<style scoped>\n    .dataframe tbody tr th:only-of-type {\n        vertical-align: middle;\n    }\n\n    .dataframe tbody tr th {\n        vertical-align: top;\n    }\n\n    .dataframe thead th {\n        text-align: right;\n    }\n</style>\n<table border=\"1\" class=\"dataframe\">\n  <thead>\n    <tr style=\"text-align: right;\">\n      <th></th>\n      <th>Nilai Prediction@k %</th>\n    </tr>\n  </thead>\n  <tbody>\n    <tr>\n      <th>0</th>\n      <td>100.0</td>\n    </tr>\n    <tr>\n      <th>1</th>\n      <td>60.0</td>\n    </tr>\n    <tr>\n      <th>2</th>\n      <td>100.0</td>\n    </tr>\n    <tr>\n      <th>3</th>\n      <td>100.0</td>\n    </tr>\n    <tr>\n      <th>4</th>\n      <td>100.0</td>\n    </tr>\n    <tr>\n      <th>5</th>\n      <td>100.0</td>\n    </tr>\n    <tr>\n      <th>6</th>\n      <td>100.0</td>\n    </tr>\n    <tr>\n      <th>7</th>\n      <td>100.0</td>\n    </tr>\n    <tr>\n      <th>8</th>\n      <td>100.0</td>\n    </tr>\n    <tr>\n      <th>9</th>\n      <td>100.0</td>\n    </tr>\n  </tbody>\n</table>\n</div>"
     },
     "execution_count": 61,
     "metadata": {},
     "output_type": "execute_result"
    }
   ],
   "source": [
    "arr = sample_evaluation['title'].to_list()\n",
    "res_pak = pak_mean(arr, cosine_sim_df, books)\n",
    "pd.DataFrame(res_pak['P@k %'],  columns =['Nilai Prediction@k %'])"
   ],
   "metadata": {
    "collapsed": false,
    "ExecuteTime": {
     "end_time": "2023-10-03T08:24:50.207794100Z",
     "start_time": "2023-10-03T08:24:48.484507100Z"
    }
   }
  },
  {
   "cell_type": "markdown",
   "source": [
    "### 7.2 Collaborative Filtering"
   ],
   "metadata": {
    "collapsed": false
   }
  },
  {
   "cell_type": "code",
   "execution_count": 57,
   "outputs": [
    {
     "data": {
      "text/plain": "<Figure size 640x480 with 1 Axes>",
      "image/png": "[encoded data removed]"
     },
     "metadata": {},
     "output_type": "display_data"
    }
   ],
   "source": [
    "plt.plot(history.history['root_mean_squared_error'])\n",
    "plt.plot(history.history['val_root_mean_squared_error'])\n",
    "plt.title('model_metrics')\n",
    "plt.ylabel('root_mean_squared_error')\n",
    "plt.xlabel('epoch')\n",
    "plt.legend(['train', 'test'], loc='upper left')\n",
    "plt.show()"
   ],
   "metadata": {
    "collapsed": false,
    "ExecuteTime": {
     "end_time": "2023-10-04T09:19:35.018101200Z",
     "start_time": "2023-10-04T09:19:34.875624200Z"
    }
   }
  },
  {
   "cell_type": "code",
   "execution_count": 58,
   "outputs": [
    {
     "name": "stdout",
     "output_type": "stream",
     "text": [
      "6609/6609 [==============================] - 14s 2ms/step - loss: 0.4935 - root_mean_squared_error: 0.2405\n"
     ]
    },
    {
     "data": {
      "text/plain": "[0.4935360550880432, 0.24053922295570374]"
     },
     "execution_count": 58,
     "metadata": {},
     "output_type": "execute_result"
    }
   ],
   "source": [
    "model.evaluate(x,y)"
   ],
   "metadata": {
    "collapsed": false,
    "ExecuteTime": {
     "end_time": "2023-10-04T09:25:52.708011500Z",
     "start_time": "2023-10-04T09:25:38.839309300Z"
    }
   }
  }
 ],
 "metadata": {
  "kernelspec": {
   "display_name": "Python 3",
   "language": "python",
   "name": "python3"
  },
  "language_info": {
   "codemirror_mode": {
    "name": "ipython",
    "version": 2
   },
   "file_extension": ".py",
   "mimetype": "text/x-python",
   "name": "python",
   "nbconvert_exporter": "python",
   "pygments_lexer": "ipython2",
   "version": "2.7.6"
  }
 },
 "nbformat": 4,
 "nbformat_minor": 0
}
